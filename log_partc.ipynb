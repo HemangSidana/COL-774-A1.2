{
 "cells": [
  {
   "cell_type": "code",
   "execution_count": 26,
   "metadata": {},
   "outputs": [],
   "source": [
    "import numpy as np\n",
    "from scipy.special import softmax\n",
    "from sklearn.preprocessing import StandardScaler"
   ]
  },
  {
   "cell_type": "code",
   "execution_count": 27,
   "metadata": {},
   "outputs": [],
   "source": [
    "train = np.loadtxt('Assignment1.2/train2.csv', delimiter=',', skiprows=1)\n",
    "test = np.loadtxt('Assignment1.2/test2.csv', delimiter=',', skiprows=1)"
   ]
  },
  {
   "cell_type": "code",
   "execution_count": 28,
   "metadata": {},
   "outputs": [
    {
     "name": "stdout",
     "output_type": "stream",
     "text": [
      "(87595, 26)\n",
      "(58397, 25)\n"
     ]
    }
   ],
   "source": [
    "print(train.shape)\n",
    "print(test.shape)"
   ]
  },
  {
   "cell_type": "code",
   "execution_count": 29,
   "metadata": {},
   "outputs": [],
   "source": [
    "# tell the count of unique values in each column of train and test\n",
    "train_unique = []\n",
    "for i in range(train.shape[1]):\n",
    "    train_unique.append(len(np.unique(train[:, i])))\n",
    "    # print(i, len(np.unique(train[:, i])))\n",
    "\n",
    "# print()\n",
    "test_unique = []\n",
    "for i in range(test.shape[1]):\n",
    "    test_unique.append(len(np.unique(test[:, i])))\n",
    "    # print(i, len(np.unique(test[:, i])))"
   ]
  },
  {
   "cell_type": "code",
   "execution_count": 5,
   "metadata": {},
   "outputs": [
    {
     "name": "stdout",
     "output_type": "stream",
     "text": [
      "[43612.44 30877.11 24295.14 24335.61 32814.89 17150.43 74122.19 37730.52\n",
      " 11335.41 13891.18]\n",
      "[11. 13.  2. 12.  9.  2. 18. 17.  4.  1.]\n",
      "[0. 0. 0. 0. 0. 0. 0. 0. 0. 0.]\n"
     ]
    }
   ],
   "source": [
    "print(train[:10,7])  # total costs\n",
    "print(train[:10,10]) # length of stay\n",
    "print(train[:10,23]) # birth weight"
   ]
  },
  {
   "cell_type": "code",
   "execution_count": 5,
   "metadata": {},
   "outputs": [
    {
     "name": "stdout",
     "output_type": "stream",
     "text": [
      "737 728\n"
     ]
    }
   ],
   "source": [
    "# sum the values in train_unique and test_unique\n",
    "train_sum = sum(train_unique) - train_unique[7] - train_unique[10] - train_unique[23] - train_unique[25] - train_unique[13] - train_unique[14] - train_unique[15]\n",
    "test_sum = sum(test_unique) - test_unique[7] - test_unique[10] - test_unique[23] - test_unique[13] - test_unique[14] - test_unique[15]\n",
    "print(train_sum, test_sum)"
   ]
  },
  {
   "cell_type": "code",
   "execution_count": 31,
   "metadata": {},
   "outputs": [
    {
     "name": "stdout",
     "output_type": "stream",
     "text": [
      "['Hospital Service Area_1.0', 'Hospital Service Area_2.0', 'Hospital Service Area_3.0', 'Hospital Service Area_4.0', 'Hospital Service Area_5.0', 'Hospital Service Area_6.0', 'Hospital Service Area_7.0', 'Hospital Service Area_8.0', 'Hospital County_1.0', 'Hospital County_2.0', 'Hospital County_3.0', 'Hospital County_4.0', 'Hospital County_5.0', 'Hospital County_6.0', 'Hospital County_7.0', 'Hospital County_8.0', 'Hospital County_9.0', 'Hospital County_10.0', 'Hospital County_11.0', 'Hospital County_12.0', 'Hospital County_13.0', 'Hospital County_14.0', 'Hospital County_15.0', 'Hospital County_17.0', 'Hospital County_18.0', 'Hospital County_19.0', 'Hospital County_20.0', 'Hospital County_21.0', 'Hospital County_22.0', 'Hospital County_23.0', 'Hospital County_24.0', 'Hospital County_25.0', 'Hospital County_26.0', 'Hospital County_27.0', 'Hospital County_28.0', 'Hospital County_29.0', 'Hospital County_30.0', 'Hospital County_31.0', 'Hospital County_32.0', 'Hospital County_33.0', 'Hospital County_34.0', 'Hospital County_35.0', 'Hospital County_36.0', 'Hospital County_37.0', 'Hospital County_38.0', 'Hospital County_39.0', 'Hospital County_40.0', 'Hospital County_41.0', 'Hospital County_42.0', 'Hospital County_43.0', 'Hospital County_44.0', 'Hospital County_46.0', 'Hospital County_47.0', 'Hospital County_48.0', 'Hospital County_49.0', 'Hospital County_50.0', 'Hospital County_51.0', 'Hospital County_52.0', 'Hospital County_53.0', 'Hospital County_54.0', 'Hospital County_55.0', 'Hospital County_56.0', 'Operating Certificate Number_101000.0', 'Operating Certificate Number_228000.0', 'Operating Certificate Number_301001.0', 'Operating Certificate Number_303001.0', 'Operating Certificate Number_401001.0', 'Operating Certificate Number_501000.0', 'Operating Certificate Number_601000.0', 'Operating Certificate Number_602001.0', 'Operating Certificate Number_701000.0', 'Operating Certificate Number_824000.0', 'Operating Certificate Number_901001.0', 'Operating Certificate Number_1001000.0', 'Operating Certificate Number_1101000.0', 'Operating Certificate Number_1226701.0', 'Operating Certificate Number_1229700.0', 'Operating Certificate Number_1302001.0', 'Operating Certificate Number_1327000.0', 'Operating Certificate Number_1401005.0', 'Operating Certificate Number_1401008.0', 'Operating Certificate Number_1401010.0', 'Operating Certificate Number_1401013.0', 'Operating Certificate Number_1401014.0', 'Operating Certificate Number_1404000.0', 'Operating Certificate Number_1427000.0', 'Operating Certificate Number_1623001.0', 'Operating Certificate Number_1624000.0', 'Operating Certificate Number_1701000.0', 'Operating Certificate Number_1801000.0', 'Operating Certificate Number_2129700.0', 'Operating Certificate Number_2201000.0', 'Operating Certificate Number_2221700.0', 'Operating Certificate Number_2238700.0', 'Operating Certificate Number_2424700.0', 'Operating Certificate Number_2527000.0', 'Operating Certificate Number_2601001.0', 'Operating Certificate Number_2625700.0', 'Operating Certificate Number_2701001.0', 'Operating Certificate Number_2701003.0', 'Operating Certificate Number_2701005.0', 'Operating Certificate Number_2754001.0', 'Operating Certificate Number_2801001.0', 'Operating Certificate Number_2901000.0', 'Operating Certificate Number_2908000.0', 'Operating Certificate Number_2909000.0', 'Operating Certificate Number_2950001.0', 'Operating Certificate Number_2950002.0', 'Operating Certificate Number_2951001.0', 'Operating Certificate Number_2952005.0', 'Operating Certificate Number_2952006.0', 'Operating Certificate Number_2953000.0', 'Operating Certificate Number_3101000.0', 'Operating Certificate Number_3102000.0', 'Operating Certificate Number_3121001.0', 'Operating Certificate Number_3201002.0', 'Operating Certificate Number_3202002.0', 'Operating Certificate Number_3202003.0', 'Operating Certificate Number_3301003.0', 'Operating Certificate Number_3301007.0', 'Operating Certificate Number_3301008.0', 'Operating Certificate Number_3402000.0', 'Operating Certificate Number_3421000.0', 'Operating Certificate Number_3429000.0', 'Operating Certificate Number_3522000.0', 'Operating Certificate Number_3523000.0', 'Operating Certificate Number_3529000.0', 'Operating Certificate Number_3535001.0', 'Operating Certificate Number_3622700.0', 'Operating Certificate Number_3702000.0', 'Operating Certificate Number_3801000.0', 'Operating Certificate Number_3824000.0', 'Operating Certificate Number_3950000.0', 'Operating Certificate Number_4324000.0', 'Operating Certificate Number_4329000.0', 'Operating Certificate Number_4401000.0', 'Operating Certificate Number_4402000.0', 'Operating Certificate Number_4402001.0', 'Operating Certificate Number_4423701.0', 'Operating Certificate Number_4429000.0', 'Operating Certificate Number_4501000.0', 'Operating Certificate Number_4601001.0', 'Operating Certificate Number_4720700.0', 'Operating Certificate Number_5001000.0', 'Operating Certificate Number_5002001.0', 'Operating Certificate Number_5123000.0', 'Operating Certificate Number_5127000.0', 'Operating Certificate Number_5149000.0', 'Operating Certificate Number_5149001.0', 'Operating Certificate Number_5151001.0', 'Operating Certificate Number_5153000.0', 'Operating Certificate Number_5154000.0', 'Operating Certificate Number_5154001.0', 'Operating Certificate Number_5155000.0', 'Operating Certificate Number_5157003.0', 'Operating Certificate Number_5263000.0', 'Operating Certificate Number_5263700.0', 'Operating Certificate Number_5401001.0', 'Operating Certificate Number_5501000.0', 'Operating Certificate Number_5501001.0', 'Operating Certificate Number_5601000.0', 'Operating Certificate Number_5820000.0', 'Operating Certificate Number_5901000.0', 'Operating Certificate Number_5902001.0', 'Operating Certificate Number_5903001.0', 'Operating Certificate Number_5904001.0', 'Operating Certificate Number_5907001.0', 'Operating Certificate Number_5907002.0', 'Operating Certificate Number_5920000.0', 'Operating Certificate Number_5922000.0', 'Operating Certificate Number_5932000.0', 'Operating Certificate Number_5957000.0', 'Operating Certificate Number_5957001.0', 'Operating Certificate Number_6027000.0', 'Operating Certificate Number_6120700.0', 'Operating Certificate Number_7000001.0', 'Operating Certificate Number_7000002.0', 'Operating Certificate Number_7000006.0', 'Operating Certificate Number_7000008.0', 'Operating Certificate Number_7000011.0', 'Operating Certificate Number_7000014.0', 'Operating Certificate Number_7000024.0', 'Operating Certificate Number_7001002.0', 'Operating Certificate Number_7001003.0', 'Operating Certificate Number_7001008.0', 'Operating Certificate Number_7001009.0', 'Operating Certificate Number_7001016.0', 'Operating Certificate Number_7001020.0', 'Operating Certificate Number_7001021.0', 'Operating Certificate Number_7001024.0', 'Operating Certificate Number_7001035.0', 'Operating Certificate Number_7001037.0', 'Operating Certificate Number_7001045.0', 'Operating Certificate Number_7002001.0', 'Operating Certificate Number_7002002.0', 'Operating Certificate Number_7002009.0', 'Operating Certificate Number_7002012.0', 'Operating Certificate Number_7002017.0', 'Operating Certificate Number_7002020.0', 'Operating Certificate Number_7002021.0', 'Operating Certificate Number_7002024.0', 'Operating Certificate Number_7002026.0', 'Operating Certificate Number_7002032.0', 'Operating Certificate Number_7002050.0', 'Operating Certificate Number_7002053.0', 'Operating Certificate Number_7002054.0', 'Operating Certificate Number_7003000.0', 'Operating Certificate Number_7003001.0', 'Operating Certificate Number_7003003.0', 'Operating Certificate Number_7003004.0', 'Operating Certificate Number_7003007.0', 'Operating Certificate Number_7003010.0', 'Operating Certificate Number_7004003.0', 'Operating Certificate Number_7004010.0', 'Permanent Facility Id_1.0', 'Permanent Facility Id_39.0', 'Permanent Facility Id_42.0', 'Permanent Facility Id_43.0', 'Permanent Facility Id_58.0', 'Permanent Facility Id_66.0', 'Permanent Facility Id_85.0', 'Permanent Facility Id_98.0', 'Permanent Facility Id_103.0', 'Permanent Facility Id_116.0', 'Permanent Facility Id_128.0', 'Permanent Facility Id_135.0', 'Permanent Facility Id_146.0', 'Permanent Facility Id_158.0', 'Permanent Facility Id_170.0', 'Permanent Facility Id_174.0', 'Permanent Facility Id_180.0', 'Permanent Facility Id_181.0', 'Permanent Facility Id_192.0', 'Permanent Facility Id_207.0', 'Permanent Facility Id_208.0', 'Permanent Facility Id_210.0', 'Permanent Facility Id_213.0', 'Permanent Facility Id_216.0', 'Permanent Facility Id_218.0', 'Permanent Facility Id_245.0', 'Permanent Facility Id_267.0', 'Permanent Facility Id_280.0', 'Permanent Facility Id_292.0', 'Permanent Facility Id_324.0', 'Permanent Facility Id_325.0', 'Permanent Facility Id_330.0', 'Permanent Facility Id_339.0', 'Permanent Facility Id_340.0', 'Permanent Facility Id_362.0', 'Permanent Facility Id_367.0', 'Permanent Facility Id_377.0', 'Permanent Facility Id_379.0', 'Permanent Facility Id_383.0', 'Permanent Facility Id_393.0', 'Permanent Facility Id_397.0', 'Permanent Facility Id_401.0', 'Permanent Facility Id_409.0', 'Permanent Facility Id_411.0', 'Permanent Facility Id_412.0', 'Permanent Facility Id_413.0', 'Permanent Facility Id_471.0', 'Permanent Facility Id_482.0', 'Permanent Facility Id_484.0', 'Permanent Facility Id_490.0', 'Permanent Facility Id_511.0', 'Permanent Facility Id_513.0', 'Permanent Facility Id_518.0', 'Permanent Facility Id_527.0', 'Permanent Facility Id_528.0', 'Permanent Facility Id_541.0', 'Permanent Facility Id_550.0', 'Permanent Facility Id_551.0', 'Permanent Facility Id_552.0', 'Permanent Facility Id_563.0', 'Permanent Facility Id_565.0', 'Permanent Facility Id_574.0', 'Permanent Facility Id_583.0', 'Permanent Facility Id_589.0', 'Permanent Facility Id_598.0', 'Permanent Facility Id_599.0', 'Permanent Facility Id_628.0', 'Permanent Facility Id_630.0', 'Permanent Facility Id_635.0', 'Permanent Facility Id_636.0', 'Permanent Facility Id_671.0', 'Permanent Facility Id_676.0', 'Permanent Facility Id_678.0', 'Permanent Facility Id_694.0', 'Permanent Facility Id_699.0', 'Permanent Facility Id_704.0', 'Permanent Facility Id_708.0', 'Permanent Facility Id_718.0', 'Permanent Facility Id_727.0', 'Permanent Facility Id_739.0', 'Permanent Facility Id_746.0', 'Permanent Facility Id_752.0', 'Permanent Facility Id_776.0', 'Permanent Facility Id_779.0', 'Permanent Facility Id_798.0', 'Permanent Facility Id_804.0', 'Permanent Facility Id_812.0', 'Permanent Facility Id_815.0', 'Permanent Facility Id_818.0', 'Permanent Facility Id_829.0', 'Permanent Facility Id_848.0', 'Permanent Facility Id_866.0', 'Permanent Facility Id_870.0', 'Permanent Facility Id_885.0', 'Permanent Facility Id_889.0', 'Permanent Facility Id_891.0', 'Permanent Facility Id_895.0', 'Permanent Facility Id_896.0', 'Permanent Facility Id_913.0', 'Permanent Facility Id_924.0', 'Permanent Facility Id_925.0', 'Permanent Facility Id_938.0', 'Permanent Facility Id_943.0', 'Permanent Facility Id_968.0', 'Permanent Facility Id_971.0', 'Permanent Facility Id_977.0', 'Permanent Facility Id_989.0', 'Permanent Facility Id_990.0', 'Permanent Facility Id_1005.0', 'Permanent Facility Id_1028.0', 'Permanent Facility Id_1039.0', 'Permanent Facility Id_1045.0', 'Permanent Facility Id_1047.0', 'Permanent Facility Id_1061.0', 'Permanent Facility Id_1072.0', 'Permanent Facility Id_1097.0', 'Permanent Facility Id_1098.0', 'Permanent Facility Id_1099.0', 'Permanent Facility Id_1117.0', 'Permanent Facility Id_1122.0', 'Permanent Facility Id_1124.0', 'Permanent Facility Id_1129.0', 'Permanent Facility Id_1138.0', 'Permanent Facility Id_1139.0', 'Permanent Facility Id_1153.0', 'Permanent Facility Id_1158.0', 'Permanent Facility Id_1164.0', 'Permanent Facility Id_1165.0', 'Permanent Facility Id_1168.0', 'Permanent Facility Id_1169.0', 'Permanent Facility Id_1172.0', 'Permanent Facility Id_1175.0', 'Permanent Facility Id_1176.0', 'Permanent Facility Id_1178.0', 'Permanent Facility Id_1186.0', 'Permanent Facility Id_1286.0', 'Permanent Facility Id_1288.0', 'Permanent Facility Id_1293.0', 'Permanent Facility Id_1294.0', 'Permanent Facility Id_1301.0', 'Permanent Facility Id_1304.0', 'Permanent Facility Id_1305.0', 'Permanent Facility Id_1306.0', 'Permanent Facility Id_1309.0', 'Permanent Facility Id_1315.0', 'Permanent Facility Id_1318.0', 'Permanent Facility Id_1320.0', 'Permanent Facility Id_1324.0', 'Permanent Facility Id_1437.0', 'Permanent Facility Id_1438.0', 'Permanent Facility Id_1439.0', 'Permanent Facility Id_1445.0', 'Permanent Facility Id_1446.0', 'Permanent Facility Id_1447.0', 'Permanent Facility Id_1450.0', 'Permanent Facility Id_1453.0', 'Permanent Facility Id_1454.0', 'Permanent Facility Id_1456.0', 'Permanent Facility Id_1458.0', 'Permanent Facility Id_1460.0', 'Permanent Facility Id_1463.0', 'Permanent Facility Id_1464.0', 'Permanent Facility Id_1466.0', 'Permanent Facility Id_1469.0', 'Permanent Facility Id_1486.0', 'Permanent Facility Id_1626.0', 'Permanent Facility Id_1628.0', 'Permanent Facility Id_1629.0', 'Permanent Facility Id_1630.0', 'Permanent Facility Id_1633.0', 'Permanent Facility Id_1635.0', 'Permanent Facility Id_1637.0', 'Permanent Facility Id_1638.0', 'Permanent Facility Id_1639.0', 'Permanent Facility Id_1692.0', 'Permanent Facility Id_1737.0', 'Permanent Facility Id_1738.0', 'Permanent Facility Id_1740.0', 'Permanent Facility Id_3058.0', 'Permanent Facility Id_3067.0', 'Permanent Facility Id_3376.0', 'Permanent Facility Id_3975.0', 'Permanent Facility Id_9059.0', 'Permanent Facility Id_10216.0', 'Permanent Facility Id_10223.0', 'Permanent Facility Id_10355.0', 'Facility Name_1.0', 'Facility Name_2.0', 'Facility Name_4.0', 'Facility Name_5.0', 'Facility Name_6.0', 'Facility Name_7.0', 'Facility Name_8.0', 'Facility Name_9.0', 'Facility Name_10.0', 'Facility Name_11.0', 'Facility Name_12.0', 'Facility Name_13.0', 'Facility Name_14.0', 'Facility Name_15.0', 'Facility Name_16.0', 'Facility Name_17.0', 'Facility Name_18.0', 'Facility Name_19.0', 'Facility Name_20.0', 'Facility Name_21.0', 'Facility Name_22.0', 'Facility Name_23.0', 'Facility Name_25.0', 'Facility Name_26.0', 'Facility Name_27.0', 'Facility Name_28.0', 'Facility Name_29.0', 'Facility Name_30.0', 'Facility Name_31.0', 'Facility Name_32.0', 'Facility Name_34.0', 'Facility Name_35.0', 'Facility Name_36.0', 'Facility Name_38.0', 'Facility Name_39.0', 'Facility Name_40.0', 'Facility Name_41.0', 'Facility Name_42.0', 'Facility Name_43.0', 'Facility Name_44.0', 'Facility Name_45.0', 'Facility Name_46.0', 'Facility Name_47.0', 'Facility Name_48.0', 'Facility Name_49.0', 'Facility Name_50.0', 'Facility Name_51.0', 'Facility Name_52.0', 'Facility Name_53.0', 'Facility Name_54.0', 'Facility Name_55.0', 'Facility Name_56.0', 'Facility Name_57.0', 'Facility Name_59.0', 'Facility Name_60.0', 'Facility Name_61.0', 'Facility Name_62.0', 'Facility Name_63.0', 'Facility Name_65.0', 'Facility Name_66.0', 'Facility Name_67.0', 'Facility Name_68.0', 'Facility Name_69.0', 'Facility Name_70.0', 'Facility Name_71.0', 'Facility Name_73.0', 'Facility Name_74.0', 'Facility Name_75.0', 'Facility Name_76.0', 'Facility Name_77.0', 'Facility Name_78.0', 'Facility Name_79.0', 'Facility Name_80.0', 'Facility Name_81.0', 'Facility Name_82.0', 'Facility Name_83.0', 'Facility Name_84.0', 'Facility Name_85.0', 'Facility Name_86.0', 'Facility Name_87.0', 'Facility Name_88.0', 'Facility Name_89.0', 'Facility Name_90.0', 'Facility Name_91.0', 'Facility Name_92.0', 'Facility Name_93.0', 'Facility Name_94.0', 'Facility Name_95.0', 'Facility Name_96.0', 'Facility Name_97.0', 'Facility Name_98.0', 'Facility Name_99.0', 'Facility Name_100.0', 'Facility Name_101.0', 'Facility Name_102.0', 'Facility Name_103.0', 'Facility Name_104.0', 'Facility Name_105.0', 'Facility Name_106.0', 'Facility Name_107.0', 'Facility Name_108.0', 'Facility Name_109.0', 'Facility Name_110.0', 'Facility Name_111.0', 'Facility Name_112.0', 'Facility Name_113.0', 'Facility Name_114.0', 'Facility Name_115.0', 'Facility Name_116.0', 'Facility Name_117.0', 'Facility Name_118.0', 'Facility Name_120.0', 'Facility Name_121.0', 'Facility Name_122.0', 'Facility Name_123.0', 'Facility Name_124.0', 'Facility Name_125.0', 'Facility Name_126.0', 'Facility Name_127.0', 'Facility Name_128.0', 'Facility Name_129.0', 'Facility Name_130.0', 'Facility Name_131.0', 'Facility Name_133.0', 'Facility Name_134.0', 'Facility Name_135.0', 'Facility Name_136.0', 'Facility Name_137.0', 'Facility Name_138.0', 'Facility Name_139.0', 'Facility Name_140.0', 'Facility Name_141.0', 'Facility Name_143.0', 'Facility Name_144.0', 'Facility Name_145.0', 'Facility Name_146.0', 'Facility Name_147.0', 'Facility Name_148.0', 'Facility Name_149.0', 'Facility Name_150.0', 'Facility Name_151.0', 'Facility Name_152.0', 'Facility Name_153.0', 'Facility Name_155.0', 'Facility Name_156.0', 'Facility Name_157.0', 'Facility Name_158.0', 'Facility Name_159.0', 'Facility Name_160.0', 'Facility Name_161.0', 'Facility Name_162.0', 'Facility Name_163.0', 'Facility Name_164.0', 'Facility Name_165.0', 'Facility Name_166.0', 'Facility Name_167.0', 'Facility Name_169.0', 'Facility Name_171.0', 'Facility Name_172.0', 'Facility Name_173.0', 'Facility Name_174.0', 'Facility Name_175.0', 'Facility Name_176.0', 'Facility Name_177.0', 'Facility Name_178.0', 'Facility Name_179.0', 'Facility Name_180.0', 'Facility Name_181.0', 'Facility Name_182.0', 'Facility Name_183.0', 'Facility Name_185.0', 'Facility Name_186.0', 'Facility Name_187.0', 'Facility Name_188.0', 'Facility Name_189.0', 'Facility Name_190.0', 'Facility Name_191.0', 'Facility Name_192.0', 'Facility Name_193.0', 'Facility Name_194.0', 'Facility Name_195.0', 'Facility Name_197.0', 'Facility Name_199.0', 'Facility Name_200.0', 'Facility Name_201.0', 'Age Group_1.0', 'Age Group_2.0', 'Age Group_3.0', 'Age Group_4.0', 'Age Group_5.0', 'Zip Code - 3 digits_1.0', 'Zip Code - 3 digits_2.0', 'Zip Code - 3 digits_3.0', 'Zip Code - 3 digits_4.0', 'Zip Code - 3 digits_5.0', 'Zip Code - 3 digits_6.0', 'Zip Code - 3 digits_7.0', 'Zip Code - 3 digits_8.0', 'Zip Code - 3 digits_9.0', 'Zip Code - 3 digits_10.0', 'Zip Code - 3 digits_11.0', 'Zip Code - 3 digits_12.0', 'Zip Code - 3 digits_13.0', 'Zip Code - 3 digits_14.0', 'Zip Code - 3 digits_15.0', 'Zip Code - 3 digits_16.0', 'Zip Code - 3 digits_17.0', 'Zip Code - 3 digits_18.0', 'Zip Code - 3 digits_19.0', 'Zip Code - 3 digits_20.0', 'Zip Code - 3 digits_21.0', 'Zip Code - 3 digits_22.0', 'Zip Code - 3 digits_23.0', 'Zip Code - 3 digits_24.0', 'Zip Code - 3 digits_25.0', 'Zip Code - 3 digits_26.0', 'Zip Code - 3 digits_27.0', 'Zip Code - 3 digits_28.0', 'Zip Code - 3 digits_29.0', 'Zip Code - 3 digits_30.0', 'Zip Code - 3 digits_31.0', 'Zip Code - 3 digits_32.0', 'Zip Code - 3 digits_33.0', 'Zip Code - 3 digits_34.0', 'Zip Code - 3 digits_35.0', 'Zip Code - 3 digits_36.0', 'Zip Code - 3 digits_37.0', 'Zip Code - 3 digits_38.0', 'Zip Code - 3 digits_39.0', 'Zip Code - 3 digits_40.0', 'Zip Code - 3 digits_41.0', 'Zip Code - 3 digits_42.0', 'Zip Code - 3 digits_43.0', 'Zip Code - 3 digits_44.0', 'Zip Code - 3 digits_45.0', 'Zip Code - 3 digits_46.0', 'Zip Code - 3 digits_47.0', 'Zip Code - 3 digits_48.0', 'Zip Code - 3 digits_49.0', 'Zip Code - 3 digits_50.0', 'Race_1.0', 'Race_2.0', 'Race_3.0', 'Race_4.0', 'Ethnicity_1.0', 'Ethnicity_2.0', 'Ethnicity_3.0', 'Ethnicity_4.0', 'Type of Admission_1.0', 'Type of Admission_2.0', 'Type of Admission_3.0', 'Type of Admission_4.0', 'Type of Admission_5.0', 'Type of Admission_6.0', 'Patient Disposition_1.0', 'Patient Disposition_2.0', 'Patient Disposition_3.0', 'Patient Disposition_4.0', 'Patient Disposition_5.0', 'Patient Disposition_6.0', 'Patient Disposition_7.0', 'Patient Disposition_8.0', 'Patient Disposition_9.0', 'Patient Disposition_10.0', 'Patient Disposition_11.0', 'Patient Disposition_12.0', 'Patient Disposition_13.0', 'Patient Disposition_14.0', 'Patient Disposition_15.0', 'Patient Disposition_16.0', 'Patient Disposition_17.0', 'Patient Disposition_18.0', 'Patient Disposition_19.0', 'APR MDC Code_1.0', 'APR MDC Code_2.0', 'APR MDC Code_3.0', 'APR MDC Code_4.0', 'APR MDC Code_5.0', 'APR MDC Code_6.0', 'APR MDC Code_7.0', 'APR MDC Code_8.0', 'APR MDC Code_9.0', 'APR MDC Code_10.0', 'APR MDC Code_11.0', 'APR MDC Code_12.0', 'APR MDC Code_13.0', 'APR MDC Code_14.0', 'APR MDC Code_15.0', 'APR MDC Code_16.0', 'APR MDC Code_17.0', 'APR MDC Code_18.0', 'APR MDC Code_19.0', 'APR MDC Code_20.0', 'APR MDC Code_21.0', 'APR MDC Code_22.0', 'APR MDC Code_23.0', 'APR MDC Code_25.0', 'APR Severity of Illness Description_1.0', 'APR Severity of Illness Description_2.0', 'APR Severity of Illness Description_3.0', 'APR Severity of Illness Description_4.0', 'APR Risk of Mortality_1.0', 'APR Risk of Mortality_2.0', 'APR Risk of Mortality_3.0', 'APR Risk of Mortality_4.0', 'APR Medical Surgical Description_1.0', 'APR Medical Surgical Description_3.0', 'Payment Typology 1_1.0', 'Payment Typology 1_2.0', 'Payment Typology 1_3.0', 'Payment Typology 1_4.0', 'Payment Typology 1_5.0', 'Payment Typology 1_6.0', 'Payment Typology 1_7.0', 'Payment Typology 1_8.0', 'Payment Typology 1_9.0', 'Payment Typology 2_1.0', 'Payment Typology 2_2.0', 'Payment Typology 2_3.0', 'Payment Typology 2_4.0', 'Payment Typology 2_5.0', 'Payment Typology 2_6.0', 'Payment Typology 2_7.0', 'Payment Typology 2_8.0', 'Payment Typology 2_9.0', 'Payment Typology 2_10.0', 'Payment Typology 3_1.0', 'Payment Typology 3_3.0', 'Payment Typology 3_4.0', 'Payment Typology 3_5.0', 'Payment Typology 3_6.0', 'Payment Typology 3_7.0', 'Payment Typology 3_8.0', 'Payment Typology 3_9.0', 'Payment Typology 3_10.0', 'Emergency Department Indicator_1.0', 'Emergency Department Indicator_2.0', 'CCSR Diagnosis Code_1.0', 'CCSR Diagnosis Code_2.0', 'CCSR Diagnosis Code_3.0', 'CCSR Diagnosis Code_4.0', 'CCSR Diagnosis Code_5.0', 'CCSR Diagnosis Code_6.0', 'CCSR Diagnosis Code_7.0', 'CCSR Diagnosis Code_8.0', 'CCSR Diagnosis Code_9.0', 'CCSR Diagnosis Code_10.0', 'CCSR Diagnosis Code_11.0', 'CCSR Diagnosis Code_12.0', 'CCSR Diagnosis Code_13.0', 'CCSR Diagnosis Code_14.0', 'CCSR Diagnosis Code_15.0', 'CCSR Diagnosis Code_16.0', 'CCSR Diagnosis Code_17.0', 'CCSR Diagnosis Code_18.0', 'CCSR Diagnosis Code_19.0', 'CCSR Diagnosis Code_20.0', 'CCSR Diagnosis Code_21.0', 'CCSR Diagnosis Code_22.0', 'CCSR Diagnosis Code_23.0', 'CCSR Diagnosis Code_24.0', 'CCSR Diagnosis Code_25.0', 'CCSR Diagnosis Code_26.0', 'CCSR Diagnosis Code_27.0', 'CCSR Diagnosis Code_28.0', 'CCSR Diagnosis Code_29.0', 'CCSR Diagnosis Code_30.0', 'CCSR Diagnosis Code_31.0', 'CCSR Diagnosis Code_32.0', 'CCSR Diagnosis Code_33.0', 'CCSR Diagnosis Code_34.0', 'CCSR Diagnosis Code_35.0', 'CCSR Diagnosis Code_36.0', 'CCSR Diagnosis Code_37.0', 'CCSR Diagnosis Code_38.0', 'CCSR Diagnosis Code_39.0', 'CCSR Diagnosis Code_40.0', 'CCSR Diagnosis Code_41.0', 'CCSR Diagnosis Code_42.0', 'CCSR Diagnosis Code_43.0', 'CCSR Diagnosis Code_44.0', 'CCSR Diagnosis Code_45.0', 'CCSR Diagnosis Code_46.0', 'CCSR Diagnosis Code_47.0', 'CCSR Diagnosis Code_48.0', 'CCSR Diagnosis Code_49.0', 'CCSR Diagnosis Code_50.0', 'CCSR Diagnosis Code_51.0', 'CCSR Diagnosis Code_52.0', 'CCSR Diagnosis Code_53.0', 'CCSR Diagnosis Code_54.0', 'CCSR Diagnosis Code_55.0', 'CCSR Diagnosis Code_56.0', 'CCSR Diagnosis Code_57.0', 'CCSR Diagnosis Code_58.0', 'CCSR Diagnosis Code_59.0', 'CCSR Diagnosis Code_60.0', 'CCSR Diagnosis Code_61.0', 'CCSR Diagnosis Code_62.0', 'CCSR Diagnosis Code_63.0', 'CCSR Diagnosis Code_64.0', 'CCSR Diagnosis Code_65.0', 'CCSR Diagnosis Code_66.0', 'CCSR Diagnosis Code_67.0', 'CCSR Diagnosis Code_68.0', 'CCSR Diagnosis Code_69.0', 'CCSR Diagnosis Code_70.0', 'CCSR Diagnosis Code_71.0', 'CCSR Diagnosis Code_72.0', 'CCSR Diagnosis Code_73.0', 'CCSR Diagnosis Code_74.0', 'CCSR Diagnosis Code_75.0', 'CCSR Diagnosis Code_76.0', 'CCSR Diagnosis Code_77.0', 'CCSR Diagnosis Code_79.0', 'CCSR Diagnosis Code_80.0', 'CCSR Diagnosis Code_82.0', 'CCSR Diagnosis Code_83.0', 'CCSR Diagnosis Code_84.0', 'CCSR Diagnosis Code_85.0', 'CCSR Diagnosis Code_86.0', 'CCSR Diagnosis Code_87.0', 'CCSR Diagnosis Code_88.0', 'CCSR Diagnosis Code_89.0', 'CCSR Diagnosis Code_90.0', 'CCSR Diagnosis Code_91.0', 'CCSR Diagnosis Code_92.0', 'CCSR Diagnosis Code_93.0', 'CCSR Diagnosis Code_94.0', 'CCSR Diagnosis Code_95.0', 'CCSR Diagnosis Code_96.0', 'CCSR Diagnosis Code_97.0', 'CCSR Diagnosis Code_98.0', 'CCSR Diagnosis Code_100.0', 'CCSR Diagnosis Code_102.0', 'CCSR Diagnosis Code_103.0', 'CCSR Diagnosis Code_104.0', 'CCSR Diagnosis Code_106.0', 'CCSR Diagnosis Code_107.0', 'CCSR Diagnosis Code_108.0', 'CCSR Diagnosis Code_110.0', 'CCSR Diagnosis Code_111.0', 'CCSR Diagnosis Code_112.0', 'CCSR Diagnosis Code_115.0', 'CCSR Diagnosis Code_116.0', 'CCSR Diagnosis Code_118.0', 'CCSR Diagnosis Code_119.0', 'CCSR Diagnosis Code_120.0', 'CCSR Diagnosis Code_121.0', 'CCSR Diagnosis Code_122.0', 'CCSR Diagnosis Code_123.0', 'CCSR Diagnosis Code_124.0', 'CCSR Diagnosis Code_125.0', 'CCSR Diagnosis Code_126.0', 'CCSR Diagnosis Code_127.0', 'CCSR Diagnosis Code_128.0', 'CCSR Diagnosis Code_129.0', 'CCSR Diagnosis Code_130.0', 'CCSR Diagnosis Code_131.0', 'CCSR Diagnosis Code_132.0', 'CCSR Diagnosis Code_133.0', 'CCSR Diagnosis Code_135.0', 'CCSR Diagnosis Code_136.0', 'CCSR Diagnosis Code_137.0', 'CCSR Diagnosis Code_138.0', 'CCSR Diagnosis Code_139.0', 'CCSR Diagnosis Code_140.0', 'CCSR Diagnosis Code_141.0', 'CCSR Diagnosis Code_142.0', 'CCSR Diagnosis Code_144.0', 'CCSR Diagnosis Code_145.0', 'CCSR Diagnosis Code_146.0', 'CCSR Diagnosis Code_147.0', 'CCSR Diagnosis Code_148.0', 'CCSR Diagnosis Code_149.0', 'CCSR Diagnosis Code_150.0', 'CCSR Diagnosis Code_152.0', 'CCSR Diagnosis Code_153.0', 'CCSR Diagnosis Code_154.0', 'CCSR Diagnosis Code_155.0', 'CCSR Diagnosis Code_157.0', 'CCSR Diagnosis Code_158.0', 'CCSR Diagnosis Code_159.0', 'CCSR Diagnosis Code_160.0', 'CCSR Diagnosis Code_161.0', 'CCSR Diagnosis Code_162.0', 'CCSR Diagnosis Code_163.0', 'CCSR Diagnosis Code_164.0', 'CCSR Diagnosis Code_165.0', 'CCSR Diagnosis Code_166.0', 'CCSR Diagnosis Code_167.0', 'CCSR Diagnosis Code_168.0', 'CCSR Diagnosis Code_169.0', 'CCSR Diagnosis Code_170.0', 'CCSR Diagnosis Code_171.0', 'CCSR Diagnosis Code_173.0', 'CCSR Diagnosis Code_174.0', 'CCSR Diagnosis Code_175.0', 'CCSR Diagnosis Code_176.0', 'CCSR Diagnosis Code_177.0', 'CCSR Diagnosis Code_178.0', 'CCSR Diagnosis Code_179.0', 'CCSR Diagnosis Code_180.0', 'CCSR Diagnosis Code_181.0', 'CCSR Diagnosis Code_182.0', 'CCSR Diagnosis Code_183.0', 'CCSR Diagnosis Code_184.0', 'CCSR Diagnosis Code_186.0', 'CCSR Diagnosis Code_187.0', 'CCSR Diagnosis Code_188.0', 'CCSR Diagnosis Code_189.0', 'CCSR Diagnosis Code_190.0', 'CCSR Diagnosis Code_191.0', 'CCSR Diagnosis Code_192.0', 'CCSR Diagnosis Code_193.0', 'CCSR Diagnosis Code_194.0', 'CCSR Diagnosis Code_195.0', 'CCSR Diagnosis Code_196.0', 'CCSR Diagnosis Code_197.0', 'CCSR Diagnosis Code_198.0', 'CCSR Diagnosis Code_199.0', 'CCSR Diagnosis Code_200.0', 'CCSR Diagnosis Code_201.0', 'CCSR Diagnosis Code_202.0', 'CCSR Diagnosis Code_203.0', 'CCSR Diagnosis Code_205.0', 'CCSR Diagnosis Code_206.0', 'CCSR Diagnosis Code_207.0', 'CCSR Diagnosis Code_209.0', 'CCSR Diagnosis Code_211.0', 'CCSR Diagnosis Code_215.0', 'CCSR Diagnosis Code_217.0', 'CCSR Diagnosis Code_218.0', 'CCSR Diagnosis Code_222.0', 'CCSR Diagnosis Code_223.0', 'CCSR Diagnosis Code_224.0', 'CCSR Diagnosis Code_225.0', 'CCSR Diagnosis Code_226.0', 'CCSR Diagnosis Code_230.0', 'CCSR Diagnosis Code_231.0', 'CCSR Diagnosis Code_232.0', 'CCSR Diagnosis Code_233.0', 'CCSR Diagnosis Code_234.0', 'CCSR Diagnosis Code_235.0', 'CCSR Diagnosis Code_236.0', 'CCSR Diagnosis Code_237.0', 'CCSR Diagnosis Code_238.0', 'CCSR Diagnosis Code_239.0', 'CCSR Diagnosis Code_240.0', 'CCSR Diagnosis Code_241.0', 'CCSR Diagnosis Code_242.0', 'CCSR Diagnosis Code_243.0', 'CCSR Diagnosis Code_244.0', 'CCSR Diagnosis Code_245.0', 'CCSR Diagnosis Code_246.0', 'CCSR Diagnosis Code_247.0', 'CCSR Diagnosis Code_248.0', 'CCSR Diagnosis Code_249.0', 'CCSR Diagnosis Code_250.0', 'CCSR Diagnosis Code_251.0', 'CCSR Diagnosis Code_252.0', 'CCSR Diagnosis Code_253.0', 'CCSR Diagnosis Code_254.0', 'CCSR Diagnosis Code_255.0', 'CCSR Diagnosis Code_256.0', 'CCSR Diagnosis Code_257.0', 'CCSR Diagnosis Code_258.0', 'CCSR Diagnosis Code_259.0', 'CCSR Diagnosis Code_262.0', 'CCSR Diagnosis Code_263.0', 'CCSR Diagnosis Code_265.0', 'CCSR Diagnosis Code_266.0', 'CCSR Diagnosis Code_267.0', 'CCSR Diagnosis Code_270.0', 'CCSR Diagnosis Code_271.0', 'CCSR Diagnosis Code_272.0', 'CCSR Diagnosis Code_273.0', 'CCSR Diagnosis Code_274.0', 'CCSR Diagnosis Code_275.0', 'CCSR Diagnosis Code_276.0', 'CCSR Diagnosis Code_277.0', 'CCSR Diagnosis Code_278.0', 'CCSR Diagnosis Code_279.0', 'CCSR Diagnosis Code_280.0', 'CCSR Diagnosis Code_282.0', 'CCSR Diagnosis Code_285.0', 'CCSR Diagnosis Code_286.0', 'CCSR Diagnosis Code_287.0', 'CCSR Diagnosis Code_288.0', 'CCSR Diagnosis Code_289.0', 'CCSR Diagnosis Code_290.0', 'CCSR Diagnosis Code_291.0', 'CCSR Diagnosis Code_292.0', 'CCSR Diagnosis Code_293.0', 'CCSR Diagnosis Code_294.0', 'CCSR Diagnosis Code_295.0', 'CCSR Diagnosis Code_296.0', 'CCSR Diagnosis Code_297.0', 'CCSR Diagnosis Code_298.0', 'CCSR Diagnosis Code_301.0', 'CCSR Diagnosis Code_302.0', 'CCSR Diagnosis Code_303.0', 'CCSR Diagnosis Code_304.0', 'CCSR Diagnosis Code_305.0', 'CCSR Diagnosis Code_306.0', 'CCSR Diagnosis Code_307.0', 'CCSR Diagnosis Code_308.0', 'CCSR Diagnosis Code_309.0', 'CCSR Diagnosis Code_310.0', 'CCSR Diagnosis Code_311.0', 'CCSR Diagnosis Code_312.0', 'CCSR Diagnosis Code_313.0', 'CCSR Diagnosis Code_314.0', 'CCSR Diagnosis Code_315.0', 'CCSR Diagnosis Code_316.0', 'CCSR Diagnosis Code_317.0', 'CCSR Diagnosis Code_318.0', 'CCSR Diagnosis Code_319.0', 'CCSR Diagnosis Code_320.0', 'CCSR Diagnosis Code_321.0', 'CCSR Diagnosis Code_322.0', 'CCSR Diagnosis Code_323.0', 'CCSR Diagnosis Code_324.0', 'CCSR Diagnosis Code_325.0', 'CCSR Diagnosis Code_326.0', 'CCSR Diagnosis Code_327.0', 'CCSR Diagnosis Code_328.0', 'CCSR Diagnosis Code_329.0', 'CCSR Diagnosis Code_330.0', 'CCSR Diagnosis Code_331.0', 'CCSR Diagnosis Code_332.0', 'CCSR Diagnosis Code_333.0', 'CCSR Diagnosis Code_334.0', 'CCSR Diagnosis Code_335.0', 'CCSR Diagnosis Code_336.0', 'CCSR Diagnosis Code_337.0', 'CCSR Diagnosis Code_338.0', 'CCSR Diagnosis Code_340.0', 'CCSR Diagnosis Code_341.0', 'CCSR Diagnosis Code_342.0', 'CCSR Diagnosis Code_343.0', 'CCSR Diagnosis Code_345.0', 'CCSR Diagnosis Code_346.0', 'CCSR Diagnosis Code_347.0', 'CCSR Diagnosis Code_349.0', 'CCSR Diagnosis Code_350.0', 'CCSR Diagnosis Code_351.0', 'CCSR Diagnosis Code_352.0', 'CCSR Diagnosis Code_353.0', 'CCSR Diagnosis Code_354.0', 'CCSR Diagnosis Code_355.0', 'CCSR Diagnosis Code_358.0', 'CCSR Diagnosis Code_359.0', 'CCSR Diagnosis Code_360.0', 'CCSR Diagnosis Code_361.0', 'CCSR Diagnosis Code_362.0', 'CCSR Diagnosis Code_363.0', 'CCSR Diagnosis Code_364.0', 'CCSR Diagnosis Code_366.0', 'CCSR Diagnosis Code_367.0', 'CCSR Diagnosis Code_368.0', 'CCSR Diagnosis Code_369.0', 'CCSR Diagnosis Code_370.0', 'CCSR Diagnosis Code_371.0', 'CCSR Diagnosis Code_372.0', 'CCSR Diagnosis Code_373.0', 'CCSR Diagnosis Code_374.0', 'CCSR Diagnosis Code_375.0', 'CCSR Diagnosis Code_376.0', 'CCSR Diagnosis Code_377.0', 'CCSR Diagnosis Code_378.0', 'CCSR Diagnosis Code_380.0', 'CCSR Diagnosis Code_381.0', 'CCSR Diagnosis Code_382.0', 'CCSR Diagnosis Code_383.0', 'CCSR Diagnosis Code_384.0', 'CCSR Diagnosis Code_385.0', 'CCSR Diagnosis Code_386.0', 'CCSR Diagnosis Code_387.0', 'CCSR Diagnosis Code_388.0', 'CCSR Diagnosis Code_389.0', 'CCSR Diagnosis Code_390.0', 'CCSR Diagnosis Code_391.0', 'CCSR Diagnosis Code_392.0', 'CCSR Diagnosis Code_393.0', 'CCSR Diagnosis Code_394.0', 'CCSR Diagnosis Code_395.0', 'CCSR Diagnosis Code_396.0', 'CCSR Diagnosis Code_397.0', 'CCSR Diagnosis Code_399.0', 'CCSR Diagnosis Code_400.0', 'CCSR Diagnosis Code_401.0', 'CCSR Diagnosis Code_402.0', 'CCSR Diagnosis Code_403.0', 'CCSR Diagnosis Code_404.0', 'CCSR Diagnosis Code_405.0', 'CCSR Diagnosis Code_406.0', 'CCSR Diagnosis Code_407.0', 'CCSR Diagnosis Code_408.0', 'CCSR Diagnosis Code_410.0', 'CCSR Diagnosis Code_411.0', 'CCSR Diagnosis Code_420.0', 'CCSR Diagnosis Code_421.0', 'CCSR Diagnosis Code_422.0', 'CCSR Diagnosis Code_423.0', 'CCSR Diagnosis Code_424.0', 'CCSR Diagnosis Code_425.0', 'CCSR Diagnosis Code_426.0', 'CCSR Diagnosis Code_427.0', 'CCSR Diagnosis Code_428.0', 'CCSR Diagnosis Code_429.0', 'CCSR Diagnosis Code_430.0', 'CCSR Diagnosis Code_431.0', 'CCSR Diagnosis Code_432.0', 'CCSR Diagnosis Code_433.0', 'CCSR Diagnosis Code_434.0', 'CCSR Diagnosis Code_436.0', 'CCSR Diagnosis Code_437.0', 'CCSR Diagnosis Code_438.0', 'CCSR Diagnosis Code_439.0', 'CCSR Diagnosis Code_440.0', 'CCSR Diagnosis Code_441.0', 'CCSR Diagnosis Code_442.0', 'CCSR Diagnosis Code_443.0', 'CCSR Diagnosis Code_444.0', 'CCSR Diagnosis Code_445.0', 'CCSR Diagnosis Code_446.0', 'CCSR Diagnosis Code_447.0', 'CCSR Diagnosis Code_448.0', 'CCSR Diagnosis Code_449.0', 'CCSR Diagnosis Code_450.0', 'CCSR Diagnosis Code_451.0', 'CCSR Diagnosis Code_452.0', 'CCSR Diagnosis Code_453.0', 'CCSR Diagnosis Code_454.0', 'CCSR Diagnosis Code_455.0', 'CCSR Diagnosis Code_456.0', 'CCSR Diagnosis Code_457.0', 'CCSR Diagnosis Code_458.0', 'CCSR Diagnosis Code_459.0', 'CCSR Diagnosis Code_460.0', 'CCSR Diagnosis Code_461.0', 'CCSR Diagnosis Code_462.0', 'CCSR Diagnosis Code_463.0', 'CCSR Diagnosis Code_464.0', 'CCSR Diagnosis Code_465.0', 'CCSR Diagnosis Code_466.0', 'CCSR Diagnosis Code_467.0', 'CCSR Diagnosis Code_468.0', 'CCSR Diagnosis Code_469.0', 'CCSR Diagnosis Code_470.0', 'CCSR Diagnosis Code_471.0', 'CCSR Diagnosis Code_472.0', 'CCSR Diagnosis Code_473.0', 'CCSR Diagnosis Code_474.0', 'CCSR Diagnosis Code_475.0', 'CCSR Diagnosis Code_476.0', 'CCSR Diagnosis Code_477.0', 'CCSR Diagnosis Code_478.0', 'CCSR Diagnosis Code_479.0', 'CCSR Procedure Code_1.0', 'CCSR Procedure Code_2.0', 'CCSR Procedure Code_3.0', 'CCSR Procedure Code_4.0', 'CCSR Procedure Code_5.0', 'CCSR Procedure Code_6.0', 'CCSR Procedure Code_7.0', 'CCSR Procedure Code_8.0', 'CCSR Procedure Code_9.0', 'CCSR Procedure Code_10.0', 'CCSR Procedure Code_11.0', 'CCSR Procedure Code_12.0', 'CCSR Procedure Code_13.0', 'CCSR Procedure Code_14.0', 'CCSR Procedure Code_15.0', 'CCSR Procedure Code_16.0', 'CCSR Procedure Code_17.0', 'CCSR Procedure Code_18.0', 'CCSR Procedure Code_19.0', 'CCSR Procedure Code_20.0', 'CCSR Procedure Code_21.0', 'CCSR Procedure Code_22.0', 'CCSR Procedure Code_23.0', 'CCSR Procedure Code_24.0', 'CCSR Procedure Code_25.0', 'CCSR Procedure Code_26.0', 'CCSR Procedure Code_27.0', 'CCSR Procedure Code_28.0', 'CCSR Procedure Code_29.0', 'CCSR Procedure Code_30.0', 'CCSR Procedure Code_31.0', 'CCSR Procedure Code_32.0', 'CCSR Procedure Code_33.0', 'CCSR Procedure Code_34.0', 'CCSR Procedure Code_35.0', 'CCSR Procedure Code_36.0', 'CCSR Procedure Code_37.0', 'CCSR Procedure Code_38.0', 'CCSR Procedure Code_39.0', 'CCSR Procedure Code_40.0', 'CCSR Procedure Code_41.0', 'CCSR Procedure Code_42.0', 'CCSR Procedure Code_43.0', 'CCSR Procedure Code_44.0', 'CCSR Procedure Code_45.0', 'CCSR Procedure Code_46.0', 'CCSR Procedure Code_47.0', 'CCSR Procedure Code_48.0', 'CCSR Procedure Code_49.0', 'CCSR Procedure Code_50.0', 'CCSR Procedure Code_51.0', 'CCSR Procedure Code_53.0', 'CCSR Procedure Code_54.0', 'CCSR Procedure Code_55.0', 'CCSR Procedure Code_56.0', 'CCSR Procedure Code_57.0', 'CCSR Procedure Code_58.0', 'CCSR Procedure Code_59.0', 'CCSR Procedure Code_60.0', 'CCSR Procedure Code_61.0', 'CCSR Procedure Code_62.0', 'CCSR Procedure Code_63.0', 'CCSR Procedure Code_64.0', 'CCSR Procedure Code_65.0', 'CCSR Procedure Code_66.0', 'CCSR Procedure Code_67.0', 'CCSR Procedure Code_68.0', 'CCSR Procedure Code_69.0', 'CCSR Procedure Code_70.0', 'CCSR Procedure Code_71.0', 'CCSR Procedure Code_72.0', 'CCSR Procedure Code_73.0', 'CCSR Procedure Code_74.0', 'CCSR Procedure Code_75.0', 'CCSR Procedure Code_76.0', 'CCSR Procedure Code_77.0', 'CCSR Procedure Code_78.0', 'CCSR Procedure Code_79.0', 'CCSR Procedure Code_80.0', 'CCSR Procedure Code_81.0', 'CCSR Procedure Code_82.0', 'CCSR Procedure Code_83.0', 'CCSR Procedure Code_84.0', 'CCSR Procedure Code_85.0', 'CCSR Procedure Code_86.0', 'CCSR Procedure Code_87.0', 'CCSR Procedure Code_88.0', 'CCSR Procedure Code_89.0', 'CCSR Procedure Code_90.0', 'CCSR Procedure Code_91.0', 'CCSR Procedure Code_92.0', 'CCSR Procedure Code_93.0', 'CCSR Procedure Code_94.0', 'CCSR Procedure Code_95.0', 'CCSR Procedure Code_96.0', 'CCSR Procedure Code_97.0', 'CCSR Procedure Code_98.0', 'CCSR Procedure Code_100.0', 'CCSR Procedure Code_101.0', 'CCSR Procedure Code_102.0', 'CCSR Procedure Code_103.0', 'CCSR Procedure Code_104.0', 'CCSR Procedure Code_105.0', 'CCSR Procedure Code_106.0', 'CCSR Procedure Code_107.0', 'CCSR Procedure Code_108.0', 'CCSR Procedure Code_109.0', 'CCSR Procedure Code_110.0', 'CCSR Procedure Code_111.0', 'CCSR Procedure Code_112.0', 'CCSR Procedure Code_113.0', 'CCSR Procedure Code_114.0', 'CCSR Procedure Code_115.0', 'CCSR Procedure Code_116.0', 'CCSR Procedure Code_117.0', 'CCSR Procedure Code_118.0', 'CCSR Procedure Code_119.0', 'CCSR Procedure Code_120.0', 'CCSR Procedure Code_121.0', 'CCSR Procedure Code_122.0', 'CCSR Procedure Code_123.0', 'CCSR Procedure Code_124.0', 'CCSR Procedure Code_125.0', 'CCSR Procedure Code_126.0', 'CCSR Procedure Code_127.0', 'CCSR Procedure Code_128.0', 'CCSR Procedure Code_129.0', 'CCSR Procedure Code_130.0', 'CCSR Procedure Code_131.0', 'CCSR Procedure Code_132.0', 'CCSR Procedure Code_133.0', 'CCSR Procedure Code_134.0', 'CCSR Procedure Code_135.0', 'CCSR Procedure Code_136.0', 'CCSR Procedure Code_137.0', 'CCSR Procedure Code_138.0', 'CCSR Procedure Code_139.0', 'CCSR Procedure Code_140.0', 'CCSR Procedure Code_141.0', 'CCSR Procedure Code_142.0', 'CCSR Procedure Code_143.0', 'CCSR Procedure Code_144.0', 'CCSR Procedure Code_145.0', 'CCSR Procedure Code_146.0', 'CCSR Procedure Code_147.0', 'CCSR Procedure Code_148.0', 'CCSR Procedure Code_149.0', 'CCSR Procedure Code_150.0', 'CCSR Procedure Code_151.0', 'CCSR Procedure Code_152.0', 'CCSR Procedure Code_153.0', 'CCSR Procedure Code_154.0', 'CCSR Procedure Code_155.0', 'CCSR Procedure Code_156.0', 'CCSR Procedure Code_157.0', 'CCSR Procedure Code_158.0', 'CCSR Procedure Code_159.0', 'CCSR Procedure Code_160.0', 'CCSR Procedure Code_161.0', 'CCSR Procedure Code_162.0', 'CCSR Procedure Code_163.0', 'CCSR Procedure Code_164.0', 'CCSR Procedure Code_165.0', 'CCSR Procedure Code_166.0', 'CCSR Procedure Code_167.0', 'CCSR Procedure Code_168.0', 'CCSR Procedure Code_169.0', 'CCSR Procedure Code_170.0', 'CCSR Procedure Code_171.0', 'CCSR Procedure Code_172.0', 'CCSR Procedure Code_173.0', 'CCSR Procedure Code_174.0', 'CCSR Procedure Code_175.0', 'CCSR Procedure Code_176.0', 'CCSR Procedure Code_177.0', 'CCSR Procedure Code_178.0', 'CCSR Procedure Code_179.0', 'CCSR Procedure Code_180.0', 'CCSR Procedure Code_181.0', 'CCSR Procedure Code_183.0', 'CCSR Procedure Code_184.0', 'CCSR Procedure Code_185.0', 'CCSR Procedure Code_186.0', 'CCSR Procedure Code_187.0', 'CCSR Procedure Code_188.0', 'CCSR Procedure Code_189.0', 'CCSR Procedure Code_190.0', 'CCSR Procedure Code_191.0', 'CCSR Procedure Code_192.0', 'CCSR Procedure Code_193.0', 'CCSR Procedure Code_194.0', 'CCSR Procedure Code_195.0', 'CCSR Procedure Code_196.0', 'CCSR Procedure Code_197.0', 'CCSR Procedure Code_198.0', 'CCSR Procedure Code_199.0', 'CCSR Procedure Code_200.0', 'CCSR Procedure Code_201.0', 'CCSR Procedure Code_202.0', 'CCSR Procedure Code_203.0', 'CCSR Procedure Code_204.0', 'CCSR Procedure Code_205.0', 'CCSR Procedure Code_206.0', 'CCSR Procedure Code_207.0', 'CCSR Procedure Code_208.0', 'CCSR Procedure Code_209.0', 'CCSR Procedure Code_210.0', 'CCSR Procedure Code_211.0', 'CCSR Procedure Code_212.0', 'CCSR Procedure Code_213.0', 'CCSR Procedure Code_214.0', 'CCSR Procedure Code_215.0', 'CCSR Procedure Code_216.0', 'CCSR Procedure Code_217.0', 'CCSR Procedure Code_218.0', 'CCSR Procedure Code_219.0', 'CCSR Procedure Code_220.0', 'CCSR Procedure Code_221.0', 'CCSR Procedure Code_222.0', 'CCSR Procedure Code_223.0', 'CCSR Procedure Code_224.0', 'CCSR Procedure Code_225.0', 'CCSR Procedure Code_226.0', 'CCSR Procedure Code_227.0', 'CCSR Procedure Code_228.0', 'CCSR Procedure Code_229.0', 'CCSR Procedure Code_230.0', 'CCSR Procedure Code_231.0', 'CCSR Procedure Code_232.0', 'CCSR Procedure Code_233.0', 'CCSR Procedure Code_234.0', 'CCSR Procedure Code_235.0', 'CCSR Procedure Code_236.0', 'CCSR Procedure Code_237.0', 'CCSR Procedure Code_238.0', 'CCSR Procedure Code_239.0', 'CCSR Procedure Code_240.0', 'CCSR Procedure Code_241.0', 'CCSR Procedure Code_242.0', 'CCSR Procedure Code_243.0', 'CCSR Procedure Code_244.0', 'CCSR Procedure Code_245.0', 'CCSR Procedure Code_246.0', 'CCSR Procedure Code_247.0', 'CCSR Procedure Code_248.0', 'CCSR Procedure Code_250.0', 'CCSR Procedure Code_252.0', 'CCSR Procedure Code_253.0', 'CCSR Procedure Code_255.0', 'CCSR Procedure Code_257.0', 'CCSR Procedure Code_258.0', 'CCSR Procedure Code_259.0', 'CCSR Procedure Code_260.0', 'CCSR Procedure Code_261.0', 'CCSR Procedure Code_262.0', 'CCSR Procedure Code_265.0', 'CCSR Procedure Code_266.0', 'CCSR Procedure Code_267.0', 'CCSR Procedure Code_268.0', 'CCSR Procedure Code_269.0', 'CCSR Procedure Code_270.0', 'CCSR Procedure Code_271.0', 'CCSR Procedure Code_272.0', 'CCSR Procedure Code_273.0', 'CCSR Procedure Code_274.0', 'CCSR Procedure Code_275.0', 'CCSR Procedure Code_276.0', 'CCSR Procedure Code_277.0', 'CCSR Procedure Code_278.0', 'CCSR Procedure Code_279.0', 'CCSR Procedure Code_280.0', 'CCSR Procedure Code_281.0', 'CCSR Procedure Code_282.0', 'CCSR Procedure Code_283.0', 'CCSR Procedure Code_284.0', 'CCSR Procedure Code_285.0', 'CCSR Procedure Code_286.0', 'CCSR Procedure Code_287.0', 'CCSR Procedure Code_288.0', 'CCSR Procedure Code_289.0', 'CCSR Procedure Code_290.0', 'CCSR Procedure Code_291.0', 'CCSR Procedure Code_292.0', 'CCSR Procedure Code_293.0', 'CCSR Procedure Code_294.0', 'CCSR Procedure Code_295.0', 'CCSR Procedure Code_296.0', 'CCSR Procedure Code_297.0', 'CCSR Procedure Code_298.0', 'CCSR Procedure Code_299.0', 'CCSR Procedure Code_300.0', 'CCSR Procedure Code_301.0', 'CCSR Procedure Code_302.0', 'CCSR Procedure Code_303.0', 'CCSR Procedure Code_304.0', 'CCSR Procedure Code_305.0', 'CCSR Procedure Code_306.0', 'CCSR Procedure Code_307.0', 'CCSR Procedure Code_308.0', 'CCSR Procedure Code_309.0', 'CCSR Procedure Code_310.0', 'CCSR Procedure Code_311.0', 'CCSR Procedure Code_312.0', 'CCSR Procedure Code_313.0', 'CCSR Procedure Code_314.0', 'CCSR Procedure Code_315.0', 'CCSR Procedure Code_316.0', 'CCSR Procedure Code_317.0', 'CCSR Procedure Code_318.0', 'CCSR Procedure Code_319.0', 'CCSR Procedure Code_320.0', 'CCSR Procedure Code_321.0', 'APR DRG Code_1.0', 'APR DRG Code_2.0', 'APR DRG Code_4.0', 'APR DRG Code_5.0', 'APR DRG Code_6.0', 'APR DRG Code_7.0', 'APR DRG Code_8.0', 'APR DRG Code_9.0', 'APR DRG Code_20.0', 'APR DRG Code_21.0', 'APR DRG Code_22.0', 'APR DRG Code_23.0', 'APR DRG Code_24.0', 'APR DRG Code_26.0', 'APR DRG Code_27.0', 'APR DRG Code_29.0', 'APR DRG Code_30.0', 'APR DRG Code_40.0', 'APR DRG Code_41.0', 'APR DRG Code_42.0', 'APR DRG Code_43.0', 'APR DRG Code_44.0', 'APR DRG Code_45.0', 'APR DRG Code_46.0', 'APR DRG Code_47.0', 'APR DRG Code_48.0', 'APR DRG Code_49.0', 'APR DRG Code_50.0', 'APR DRG Code_51.0', 'APR DRG Code_52.0', 'APR DRG Code_53.0', 'APR DRG Code_54.0', 'APR DRG Code_55.0', 'APR DRG Code_56.0', 'APR DRG Code_57.0', 'APR DRG Code_58.0', 'APR DRG Code_59.0', 'APR DRG Code_73.0', 'APR DRG Code_82.0', 'APR DRG Code_89.0', 'APR DRG Code_91.0', 'APR DRG Code_92.0', 'APR DRG Code_95.0', 'APR DRG Code_97.0', 'APR DRG Code_98.0', 'APR DRG Code_110.0', 'APR DRG Code_111.0', 'APR DRG Code_113.0', 'APR DRG Code_114.0', 'APR DRG Code_115.0', 'APR DRG Code_120.0', 'APR DRG Code_121.0', 'APR DRG Code_130.0', 'APR DRG Code_131.0', 'APR DRG Code_132.0', 'APR DRG Code_133.0', 'APR DRG Code_134.0', 'APR DRG Code_135.0', 'APR DRG Code_136.0', 'APR DRG Code_137.0', 'APR DRG Code_138.0', 'APR DRG Code_139.0', 'APR DRG Code_140.0', 'APR DRG Code_141.0', 'APR DRG Code_142.0', 'APR DRG Code_143.0', 'APR DRG Code_144.0', 'APR DRG Code_145.0', 'APR DRG Code_160.0', 'APR DRG Code_161.0', 'APR DRG Code_162.0', 'APR DRG Code_163.0', 'APR DRG Code_165.0', 'APR DRG Code_166.0', 'APR DRG Code_167.0', 'APR DRG Code_169.0', 'APR DRG Code_170.0', 'APR DRG Code_171.0', 'APR DRG Code_174.0', 'APR DRG Code_175.0', 'APR DRG Code_176.0', 'APR DRG Code_177.0', 'APR DRG Code_178.0', 'APR DRG Code_179.0', 'APR DRG Code_180.0', 'APR DRG Code_181.0', 'APR DRG Code_182.0', 'APR DRG Code_183.0', 'APR DRG Code_190.0', 'APR DRG Code_191.0', 'APR DRG Code_192.0', 'APR DRG Code_193.0', 'APR DRG Code_194.0', 'APR DRG Code_196.0', 'APR DRG Code_197.0', 'APR DRG Code_198.0', 'APR DRG Code_199.0', 'APR DRG Code_200.0', 'APR DRG Code_201.0', 'APR DRG Code_203.0', 'APR DRG Code_204.0', 'APR DRG Code_205.0', 'APR DRG Code_206.0', 'APR DRG Code_207.0', 'APR DRG Code_220.0', 'APR DRG Code_222.0', 'APR DRG Code_223.0', 'APR DRG Code_224.0', 'APR DRG Code_226.0', 'APR DRG Code_227.0', 'APR DRG Code_228.0', 'APR DRG Code_229.0', 'APR DRG Code_230.0', 'APR DRG Code_231.0', 'APR DRG Code_232.0', 'APR DRG Code_233.0', 'APR DRG Code_234.0', 'APR DRG Code_240.0', 'APR DRG Code_241.0', 'APR DRG Code_242.0', 'APR DRG Code_243.0', 'APR DRG Code_244.0', 'APR DRG Code_245.0', 'APR DRG Code_246.0', 'APR DRG Code_247.0', 'APR DRG Code_248.0', 'APR DRG Code_249.0', 'APR DRG Code_251.0', 'APR DRG Code_252.0', 'APR DRG Code_253.0', 'APR DRG Code_254.0', 'APR DRG Code_260.0', 'APR DRG Code_261.0', 'APR DRG Code_263.0', 'APR DRG Code_264.0', 'APR DRG Code_279.0', 'APR DRG Code_280.0', 'APR DRG Code_281.0', 'APR DRG Code_282.0', 'APR DRG Code_283.0', 'APR DRG Code_284.0', 'APR DRG Code_303.0', 'APR DRG Code_304.0', 'APR DRG Code_305.0', 'APR DRG Code_308.0', 'APR DRG Code_309.0', 'APR DRG Code_310.0', 'APR DRG Code_312.0', 'APR DRG Code_313.0', 'APR DRG Code_314.0', 'APR DRG Code_315.0', 'APR DRG Code_316.0', 'APR DRG Code_317.0', 'APR DRG Code_320.0', 'APR DRG Code_321.0', 'APR DRG Code_322.0', 'APR DRG Code_323.0', 'APR DRG Code_324.0', 'APR DRG Code_325.0', 'APR DRG Code_326.0', 'APR DRG Code_340.0', 'APR DRG Code_341.0', 'APR DRG Code_342.0', 'APR DRG Code_343.0', 'APR DRG Code_344.0', 'APR DRG Code_346.0', 'APR DRG Code_347.0', 'APR DRG Code_349.0', 'APR DRG Code_351.0', 'APR DRG Code_361.0', 'APR DRG Code_362.0', 'APR DRG Code_363.0', 'APR DRG Code_364.0', 'APR DRG Code_380.0', 'APR DRG Code_381.0', 'APR DRG Code_382.0', 'APR DRG Code_383.0', 'APR DRG Code_384.0', 'APR DRG Code_385.0', 'APR DRG Code_401.0', 'APR DRG Code_403.0', 'APR DRG Code_404.0', 'APR DRG Code_405.0', 'APR DRG Code_420.0', 'APR DRG Code_421.0', 'APR DRG Code_422.0', 'APR DRG Code_423.0', 'APR DRG Code_424.0', 'APR DRG Code_425.0', 'APR DRG Code_426.0', 'APR DRG Code_427.0', 'APR DRG Code_440.0', 'APR DRG Code_441.0', 'APR DRG Code_442.0', 'APR DRG Code_443.0', 'APR DRG Code_444.0', 'APR DRG Code_445.0', 'APR DRG Code_446.0', 'APR DRG Code_447.0', 'APR DRG Code_461.0', 'APR DRG Code_462.0', 'APR DRG Code_463.0', 'APR DRG Code_465.0', 'APR DRG Code_466.0', 'APR DRG Code_468.0', 'APR DRG Code_469.0', 'APR DRG Code_470.0', 'APR DRG Code_480.0', 'APR DRG Code_482.0', 'APR DRG Code_483.0', 'APR DRG Code_484.0', 'APR DRG Code_500.0', 'APR DRG Code_501.0', 'APR DRG Code_510.0', 'APR DRG Code_511.0', 'APR DRG Code_512.0', 'APR DRG Code_513.0', 'APR DRG Code_514.0', 'APR DRG Code_517.0', 'APR DRG Code_518.0', 'APR DRG Code_519.0', 'APR DRG Code_530.0', 'APR DRG Code_531.0', 'APR DRG Code_532.0', 'APR DRG Code_539.0', 'APR DRG Code_540.0', 'APR DRG Code_541.0', 'APR DRG Code_542.0', 'APR DRG Code_547.0', 'APR DRG Code_548.0', 'APR DRG Code_560.0', 'APR DRG Code_561.0', 'APR DRG Code_566.0', 'APR DRG Code_580.0', 'APR DRG Code_581.0', 'APR DRG Code_588.0', 'APR DRG Code_589.0', 'APR DRG Code_591.0', 'APR DRG Code_593.0', 'APR DRG Code_602.0', 'APR DRG Code_603.0', 'APR DRG Code_607.0', 'APR DRG Code_608.0', 'APR DRG Code_609.0', 'APR DRG Code_611.0', 'APR DRG Code_612.0', 'APR DRG Code_613.0', 'APR DRG Code_614.0', 'APR DRG Code_621.0', 'APR DRG Code_622.0', 'APR DRG Code_623.0', 'APR DRG Code_625.0', 'APR DRG Code_626.0', 'APR DRG Code_630.0', 'APR DRG Code_631.0', 'APR DRG Code_633.0', 'APR DRG Code_634.0', 'APR DRG Code_636.0', 'APR DRG Code_639.0', 'APR DRG Code_640.0', 'APR DRG Code_650.0', 'APR DRG Code_651.0', 'APR DRG Code_660.0', 'APR DRG Code_661.0', 'APR DRG Code_662.0', 'APR DRG Code_663.0', 'APR DRG Code_680.0', 'APR DRG Code_681.0', 'APR DRG Code_690.0', 'APR DRG Code_691.0', 'APR DRG Code_692.0', 'APR DRG Code_694.0', 'APR DRG Code_695.0', 'APR DRG Code_696.0', 'APR DRG Code_710.0', 'APR DRG Code_711.0', 'APR DRG Code_720.0', 'APR DRG Code_721.0', 'APR DRG Code_722.0', 'APR DRG Code_723.0', 'APR DRG Code_724.0', 'APR DRG Code_740.0', 'APR DRG Code_750.0', 'APR DRG Code_751.0', 'APR DRG Code_752.0', 'APR DRG Code_753.0', 'APR DRG Code_754.0', 'APR DRG Code_755.0', 'APR DRG Code_756.0', 'APR DRG Code_757.0', 'APR DRG Code_758.0', 'APR DRG Code_759.0', 'APR DRG Code_760.0', 'APR DRG Code_770.0', 'APR DRG Code_772.0', 'APR DRG Code_773.0', 'APR DRG Code_774.0', 'APR DRG Code_775.0', 'APR DRG Code_776.0', 'APR DRG Code_792.0', 'APR DRG Code_793.0', 'APR DRG Code_794.0', 'APR DRG Code_810.0', 'APR DRG Code_811.0', 'APR DRG Code_812.0', 'APR DRG Code_813.0', 'APR DRG Code_815.0', 'APR DRG Code_816.0', 'APR DRG Code_817.0', 'APR DRG Code_842.0', 'APR DRG Code_843.0', 'APR DRG Code_844.0', 'APR DRG Code_850.0', 'APR DRG Code_860.0', 'APR DRG Code_861.0', 'APR DRG Code_862.0', 'APR DRG Code_863.0', 'APR DRG Code_910.0', 'APR DRG Code_911.0', 'APR DRG Code_912.0', 'APR DRG Code_930.0', 'APR DRG Code_950.0', 'APR DRG Code_951.0', 'APR DRG Code_952.0', 'Total Costs', 'Length of Stay', 'Birth Weight']\n"
     ]
    }
   ],
   "source": [
    "import numpy as np\n",
    "from sklearn.preprocessing import OneHotEncoder, StandardScaler\n",
    "\n",
    "columns_to_one_hot_encode = [0, 1, 2, 3, 4, 5, 6, 8, 9, 11, 12, 16, 17, 18, 19, 20, 21, 22, 24]\n",
    "column_names_for_one_hot_encode = [\n",
    "    \"Hospital Service Area\",\n",
    "    \"Hospital County\",\n",
    "    \"Operating Certificate Number\",\n",
    "    \"Permanent Facility Id\",\n",
    "    \"Facility Name\",\n",
    "    \"Age Group\",\n",
    "    \"Zip Code - 3 digits\",\n",
    "    \"Race\",\n",
    "    \"Ethnicity\",\n",
    "    \"Type of Admission\",\n",
    "    \"Patient Disposition\",\n",
    "    \"APR MDC Code\",\n",
    "    \"APR Severity of Illness Description\",\n",
    "    \"APR Risk of Mortality\",\n",
    "    \"APR Medical Surgical Description\",\n",
    "    \"Payment Typology 1\",\n",
    "    \"Payment Typology 2\",\n",
    "    \"Payment Typology 3\",\n",
    "    \"Emergency Department Indicator\"\n",
    "]\n",
    "\n",
    "columns_to_target_encode = [13, 14, 15]\n",
    "column_names_for_target_encode = [\n",
    "    \"CCSR Diagnosis Code\",\n",
    "    \"CCSR Procedure Code\",\n",
    "    \"APR DRG Code\",\n",
    "]\n",
    "\n",
    "numerical_columns = [7, 10, 23]\n",
    "numerical_column_names = [\n",
    "    \"Total Costs\",\n",
    "    \"Length of Stay\",\n",
    "    \"Birth Weight\",\n",
    "]\n",
    "\n",
    "def target_encode(train, Y, columns):\n",
    "    target_encoded_columns = []\n",
    "    target_encoded_column_names = []\n",
    "    target_encoders = {}\n",
    "    for col in columns:\n",
    "        unique_values = np.unique(train[:, col])\n",
    "        mean_encoded = {val: np.mean(Y[train[:, col] == val]) for val in unique_values}\n",
    "        target_encoders[col] = mean_encoded\n",
    "        target_encoded_columns.append(np.vectorize(mean_encoded.get)(train[:, col]))\n",
    "        target_encoded_column_names.append([f\"{column_names_for_target_encode[columns.index(col)]}_{val}\" for val in unique_values])\n",
    "    return np.column_stack(target_encoded_columns), target_encoded_column_names, target_encoders\n",
    "\n",
    "def encode(data, Y, encoder=None, target_encoder=None):\n",
    "    if encoder is None:\n",
    "        encoder = OneHotEncoder(sparse_output=False, handle_unknown='ignore')\n",
    "        encoded_columns = encoder.fit_transform(data[:, columns_to_one_hot_encode])\n",
    "    else:\n",
    "        encoded_columns = encoder.transform(data[:, columns_to_one_hot_encode])\n",
    "        # Handle unknown categories in test set\n",
    "        for i, categories in enumerate(encoder.categories_):\n",
    "            col = data[:, columns_to_one_hot_encode[i]]\n",
    "            unknown_mask = ~np.isin(col, categories)\n",
    "            if np.any(unknown_mask):\n",
    "                encoded_columns[unknown_mask, sum(len(c) for c in encoder.categories_[:i]):sum(len(c) for c in encoder.categories_[:i+1])] = 0\n",
    "    \n",
    "    non_encoded_columns = data[:, numerical_columns]\n",
    "    \n",
    "    if target_encoder is None:\n",
    "        target_encoded_columns, target_encoded_column_names, target_encoders = target_encode(data, Y, columns_to_target_encode)\n",
    "    else:\n",
    "        target_encoded_columns = []\n",
    "        target_encoded_column_names = target_encoder['column_names']\n",
    "        target_encoders = target_encoder['encoders']\n",
    "        for col in columns_to_target_encode:\n",
    "            col_data = data[:, col]\n",
    "            mean_encoded = target_encoders[col]\n",
    "            encoded_col = np.vectorize(mean_encoded.get)(col_data)\n",
    "            unknown_mask = ~np.isin(col_data, list(mean_encoded.keys()))\n",
    "            encoded_col[unknown_mask] = 0\n",
    "            target_encoded_columns.append(encoded_col)\n",
    "        target_encoded_columns = np.column_stack(target_encoded_columns)\n",
    "    \n",
    "    encoded = np.hstack((encoded_columns, target_encoded_columns, non_encoded_columns))\n",
    "    \n",
    "    # Generate column names for the encoded columns\n",
    "    encoded_column_names = []\n",
    "    for i, categories in enumerate(encoder.categories_):\n",
    "        col_name = column_names_for_one_hot_encode[i]\n",
    "        encoded_column_names.extend([f\"{col_name}_{category}\" for category in categories])\n",
    "    \n",
    "    encoded_column_names.extend([name for sublist in target_encoded_column_names for name in sublist])\n",
    "    encoded_column_names.extend(numerical_column_names)\n",
    "    \n",
    "    return encoded, encoded_column_names, encoder, {'column_names': target_encoded_column_names, 'encoders': target_encoders}\n",
    "\n",
    "def generate_data(train, test):\n",
    "    X_train = train[:, :-1]\n",
    "    Y_train = train[:, -1]\n",
    "    Y_train = (Y_train + 1) / 2\n",
    "    Y_train = Y_train.astype(np.int64)\n",
    "\n",
    "    # Replace zero values in the Birth Weight column with the mean of the remaining entries\n",
    "    birth_weight_col = X_train[:, 23]\n",
    "    non_zero_birth_weights = birth_weight_col[birth_weight_col != 0]\n",
    "    mean_birth_weight = np.mean(non_zero_birth_weights)\n",
    "    birth_weight_col[birth_weight_col == 0] = mean_birth_weight\n",
    "    X_train[:, 23] = birth_weight_col\n",
    "    \n",
    "    X_train, encoded_column_names, encoder, target_encoder = encode(X_train, Y_train)\n",
    "    X_train = X_train.astype(np.float64)\n",
    "    \n",
    "    birth_weight_col = test[:, 23]\n",
    "    birth_weight_col[birth_weight_col == 0] = mean_birth_weight\n",
    "    test[:, 23] = birth_weight_col\n",
    "    unique, counts = np.unique(Y_train, return_counts=True)\n",
    "    W = np.zeros((X_train.shape[1]+1, len(unique)), dtype=np.float64)\n",
    "\n",
    "    X_test, _, _, _ = encode(test, Y_train, encoder, target_encoder)\n",
    "    X_test = X_test.astype(np.float64)\n",
    "\n",
    "    scaler = StandardScaler().fit(X_train)\n",
    "    X_train = scaler.transform(X_train)\n",
    "    X_test = scaler.transform(X_test)\n",
    "    \n",
    "    one = np.ones((X_train.shape[0], 1))\n",
    "    X_train = np.hstack((one, X_train))\n",
    "    \n",
    "    one = np.ones((X_test.shape[0], 1))\n",
    "    X_test = np.hstack((one, X_test))\n",
    "\n",
    "    return X_train, Y_train, W, X_test, counts\n",
    "\n",
    "X, Y, W, X_test, counts, encoded_column_names = generate_data(train, test)\n",
    "print(encoded_column_names)"
   ]
  },
  {
   "cell_type": "code",
   "execution_count": 32,
   "metadata": {},
   "outputs": [
    {
     "name": "stdout",
     "output_type": "stream",
     "text": [
      "(87595, 744)\n",
      "(87595,)\n",
      "(58397, 744)\n"
     ]
    }
   ],
   "source": [
    "print(X.shape)\n",
    "print(Y.shape)\n",
    "print(X_test.shape)"
   ]
  },
  {
   "cell_type": "code",
   "execution_count": 33,
   "metadata": {},
   "outputs": [
    {
     "name": "stdout",
     "output_type": "stream",
     "text": [
      "(87595, 744) (87595,) (744, 2) [48297 39298]\n",
      "Epoch1, Batch1, Loss7.913090707916495e-06\n",
      "Epoch2, Batch1, Loss6.978432936446689e-06\n",
      "Epoch3, Batch1, Loss6.717537285255176e-06\n",
      "Epoch4, Batch1, Loss6.591476566032787e-06\n",
      "Epoch5, Batch1, Loss6.515803726617881e-06\n",
      "Epoch6, Batch1, Loss6.46447778993629e-06\n",
      "Epoch7, Batch1, Loss6.426862659891352e-06\n",
      "Epoch8, Batch1, Loss6.397792231281019e-06\n",
      "Epoch9, Batch1, Loss6.3744457868644464e-06\n",
      "Epoch10, Batch1, Loss6.355148359190623e-06\n",
      "Epoch11, Batch1, Loss6.338840303142261e-06\n",
      "Epoch12, Batch1, Loss6.324816910420138e-06\n",
      "Epoch13, Batch1, Loss6.312589963970589e-06\n",
      "Epoch14, Batch1, Loss6.3018093818636115e-06\n",
      "Epoch15, Batch1, Loss6.292216593515619e-06\n",
      "Epoch16, Batch1, Loss6.283615633698692e-06\n",
      "Epoch17, Batch1, Loss6.275854591136512e-06\n",
      "Epoch18, Batch1, Loss6.268813342903741e-06\n",
      "Epoch19, Batch1, Loss6.262395229610478e-06\n",
      "Epoch20, Batch1, Loss6.256521270897664e-06\n",
      "Epoch21, Batch1, Loss6.2511260590148205e-06\n",
      "Epoch22, Batch1, Loss6.246154785439238e-06\n",
      "Epoch23, Batch1, Loss6.241561047920078e-06\n",
      "Epoch24, Batch1, Loss6.237305205062118e-06\n",
      "Epoch25, Batch1, Loss6.233353121743805e-06\n"
     ]
    }
   ],
   "source": [
    "def g(W,x,j):\n",
    "    z = np.dot(x,W)\n",
    "    sm= softmax(z)\n",
    "    return sm[j]\n",
    "\n",
    "def loss(X,Y,W,counts):\n",
    "    n = X.shape[0]\n",
    "    Z = X @ W\n",
    "    softmax_probs = softmax(Z, axis=1)\n",
    "    indices = (np.arange(n), Y)\n",
    "    correct_class_probs = softmax_probs[indices]\n",
    "    scaled_probs = np.log(correct_class_probs) / counts[Y]\n",
    "    loss_value = -np.mean(scaled_probs) / 2\n",
    "    return loss_value\n",
    "\n",
    "def compute_gradient(X, Y, W, counts):\n",
    "    n, m = X.shape\n",
    "    k = W.shape[1]\n",
    "    z = X @ W  \n",
    "    softmax_probs = softmax(z, axis=1) \n",
    "    indices = (np.arange(n), Y)\n",
    "    Y_one_hot = np.zeros((n, k))\n",
    "    Y_one_hot[indices] = 1\n",
    "    grad_W = X.T @ ((softmax_probs - Y_one_hot) / counts[Y][:, np.newaxis]) / (2 * n) \n",
    "    return grad_W\n",
    "\n",
    "def compute_n(X, Y, W, gradient, n0, counts):\n",
    "    nl = 0.0\n",
    "    nh = n0\n",
    "    prev_loss= loss(X, Y, W, counts)\n",
    "    while prev_loss > loss(X, Y, W - nh*gradient, counts):\n",
    "        nh *= 2\n",
    "        prev_loss= loss(X, Y, W - nh*gradient, counts)\n",
    "    if nh>n0:\n",
    "        nl= nh/2\n",
    "    else:\n",
    "        while loss(X, Y, W, counts) < loss(X, Y, W - nh*gradient, counts):\n",
    "            nh /= 2\n",
    "        nh *= 2\n",
    "    for _ in range(5):\n",
    "        n1 = (2*nl + nh)/3\n",
    "        n2 = (nl + 2*nh)/3\n",
    "        if loss(X, Y, W - n1*gradient, counts) > loss(X, Y, W - n2*gradient, counts):\n",
    "            nl = n1\n",
    "        else:\n",
    "            nh = n2\n",
    "    return (nl+nh)/2\n",
    "\n",
    "def gradient_descent(X, Y, W, counts, n0, epochs, batch_size):\n",
    "    n = X.shape[0]\n",
    "    for _ in range(epochs):\n",
    "        batch_num = 0\n",
    "        for start in range(0, n, batch_size):\n",
    "            end = min(start + batch_size, n)\n",
    "            X_batch = X[start:end]\n",
    "            Y_batch = Y[start:end]\n",
    "            batch_loss = loss(X_batch, Y_batch, W, counts)\n",
    "            print(f\"Epoch{_+1}, Batch{1+int(start/batch_size)}, Loss{batch_loss}\")\n",
    "\n",
    "            gradient = compute_gradient(X_batch, Y_batch, W, counts)\n",
    "            learning_rate= compute_n(X_batch, Y_batch, W, gradient, n0, counts)\n",
    "            W -= learning_rate * gradient\n",
    "            batch_num += 1\n",
    "    return W\n",
    "\n",
    "print(X.shape, Y.shape, W.shape, counts)\n",
    "W = gradient_descent(X,Y,W,counts,1e4,25,87595)"
   ]
  },
  {
   "cell_type": "code",
   "execution_count": 34,
   "metadata": {},
   "outputs": [],
   "source": [
    "Z = X_test @ W\n",
    "output_model_pred = softmax(Z, axis=1)"
   ]
  },
  {
   "cell_type": "code",
   "execution_count": 36,
   "metadata": {},
   "outputs": [
    {
     "name": "stdout",
     "output_type": "stream",
     "text": [
      "(58397, 2)\n",
      "[[0.28720821 0.71279179]\n",
      " [0.41624935 0.58375065]\n",
      " [0.43775763 0.56224237]\n",
      " [0.20031775 0.79968225]\n",
      " [0.47093007 0.52906993]]\n"
     ]
    }
   ],
   "source": [
    "print(output_model_pred.shape)\n",
    "print(output_model_pred[:5])"
   ]
  },
  {
   "cell_type": "code",
   "execution_count": 38,
   "metadata": {},
   "outputs": [
    {
     "name": "stdout",
     "output_type": "stream",
     "text": [
      "[ 1  1  1  1  1 -1 -1 -1 -1 -1]\n"
     ]
    }
   ],
   "source": [
    "# take the argmax of the output_model_pred to get the predicted class (converting 0 to -1 also)\n",
    "predicted_class = np.argmax(output_model_pred, axis=1)\n",
    "predicted_class[predicted_class == 0] = -1\n",
    "print(predicted_class[:10])"
   ]
  },
  {
   "cell_type": "code",
   "execution_count": 39,
   "metadata": {},
   "outputs": [],
   "source": [
    "# write the predicted class to a txt file\n",
    "np.savetxt('output.txt', predicted_class, fmt='%d')"
   ]
  },
  {
   "cell_type": "code",
   "execution_count": null,
   "metadata": {},
   "outputs": [],
   "source": []
  }
 ],
 "metadata": {
  "kernelspec": {
   "display_name": "Python 3",
   "language": "python",
   "name": "python3"
  },
  "language_info": {
   "codemirror_mode": {
    "name": "ipython",
    "version": 3
   },
   "file_extension": ".py",
   "mimetype": "text/x-python",
   "name": "python",
   "nbconvert_exporter": "python",
   "pygments_lexer": "ipython3",
   "version": "3.10.12"
  }
 },
 "nbformat": 4,
 "nbformat_minor": 2
}
