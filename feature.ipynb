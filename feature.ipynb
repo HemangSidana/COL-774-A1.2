{
 "cells": [
  {
   "cell_type": "code",
   "execution_count": 12,
   "metadata": {},
   "outputs": [],
   "source": [
    "import numpy as np\n",
    "from sklearn.decomposition import PCA\n",
    "from sklearn.preprocessing import OneHotEncoder, StandardScaler\n",
    "from scipy.special import softmax"
   ]
  },
  {
   "cell_type": "code",
   "execution_count": 13,
   "metadata": {},
   "outputs": [
    {
     "name": "stdout",
     "output_type": "stream",
     "text": [
      "(87595, 26)\n"
     ]
    }
   ],
   "source": [
    "train = np.loadtxt('Assignment1.2/train2.csv', delimiter=',', skiprows=1)\n",
    "print(train.shape)"
   ]
  },
  {
   "cell_type": "code",
   "execution_count": 14,
   "metadata": {},
   "outputs": [
    {
     "name": "stdout",
     "output_type": "stream",
     "text": [
      "['Hospital Service Area' 'Hospital County' 'Operating Certificate Number'\n",
      " 'Permanent Facility Id' 'Facility Name' 'Age Group' 'Zip Code - 3 digits'\n",
      " 'Total Costs' 'Race' 'Ethnicity' 'Length of Stay' 'Type of Admission'\n",
      " 'Patient Disposition' 'CCSR Diagnosis Code' 'CCSR Procedure Code'\n",
      " 'APR DRG Code' 'APR MDC Code' 'APR Severity of Illness Description'\n",
      " 'APR Risk of Mortality' 'APR Medical Surgical Description'\n",
      " 'Payment Typology 1' 'Payment Typology 2' 'Payment Typology 3'\n",
      " 'Birth Weight' 'Emergency Department Indicator']\n"
     ]
    }
   ],
   "source": [
    "feature_name = np.loadtxt('Assignment1.2/train2.csv', delimiter=',', max_rows=1, dtype=str)\n",
    "feature_name= feature_name[:-1]\n",
    "print(feature_name)"
   ]
  },
  {
   "cell_type": "code",
   "execution_count": 15,
   "metadata": {},
   "outputs": [
    {
     "name": "stdout",
     "output_type": "stream",
     "text": [
      "(87595, 25) (87595,)\n",
      "[-1  1] [48297 39298]\n"
     ]
    }
   ],
   "source": [
    "X = train[:, :-1]\n",
    "# one = np.ones((X.shape[0], 1))\n",
    "# X= np.hstack((one,X))\n",
    "# X= X.astype(np.float64)\n",
    "Y = train[:, -1]\n",
    "Y = Y.astype(int)\n",
    "print(X.shape, Y.shape)\n",
    "unique, counts = np.unique(Y, return_counts=True)\n",
    "print(unique, counts)"
   ]
  },
  {
   "cell_type": "code",
   "execution_count": 16,
   "metadata": {},
   "outputs": [
    {
     "name": "stdout",
     "output_type": "stream",
     "text": [
      " Hospital Service Area: 8 unique values\n",
      " Hospital County: 54 unique values\n",
      " Operating Certificate Number: 152 unique values\n",
      " Permanent Facility Id: 186 unique values\n",
      " Facility Name: 185 unique values\n",
      " Age Group: 5 unique values\n",
      " Zip Code - 3 digits: 50 unique values\n",
      " Total Costs: 86012 unique values\n",
      " Race: 4 unique values\n",
      " Ethnicity: 4 unique values\n",
      " Length of Stay: 118 unique values\n",
      " Type of Admission: 6 unique values\n",
      " Patient Disposition: 19 unique values\n",
      " CCSR Diagnosis Code: 423 unique values\n",
      " CCSR Procedure Code: 312 unique values\n",
      " APR DRG Code: 324 unique values\n",
      " APR MDC Code: 24 unique values\n",
      " APR Severity of Illness Description: 4 unique values\n",
      " APR Risk of Mortality: 4 unique values\n",
      " APR Medical Surgical Description: 2 unique values\n",
      " Payment Typology 1: 9 unique values\n",
      " Payment Typology 2: 10 unique values\n",
      " Payment Typology 3: 9 unique values\n",
      " Birth Weight: 53 unique values\n",
      " Emergency Department Indicator: 2 unique values\n"
     ]
    }
   ],
   "source": [
    "for i in range(X.shape[1]):\n",
    "    unique_values = np.unique(X[:, i])\n",
    "    print(f\" {feature_name[i]}: {len(unique_values)} unique values\")"
   ]
  },
  {
   "cell_type": "code",
   "execution_count": 17,
   "metadata": {},
   "outputs": [
    {
     "name": "stdout",
     "output_type": "stream",
     "text": [
      "(87595, 1799)\n",
      "['Hospital Service Area_1', 'Hospital Service Area_2', 'Hospital Service Area_3', 'Hospital Service Area_4', 'Hospital Service Area_5', 'Hospital Service Area_6', 'Hospital Service Area_7', 'Hospital Service Area_8', 'Hospital County_1', 'Hospital County_2', 'Hospital County_3', 'Hospital County_4', 'Hospital County_5', 'Hospital County_6', 'Hospital County_7', 'Hospital County_8', 'Hospital County_9', 'Hospital County_10', 'Hospital County_11', 'Hospital County_12', 'Hospital County_13', 'Hospital County_14', 'Hospital County_15', 'Hospital County_16', 'Hospital County_17', 'Hospital County_18', 'Hospital County_19', 'Hospital County_20', 'Hospital County_21', 'Hospital County_22', 'Hospital County_23', 'Hospital County_24', 'Hospital County_25', 'Hospital County_26', 'Hospital County_27', 'Hospital County_28', 'Hospital County_29', 'Hospital County_30', 'Hospital County_31', 'Hospital County_32', 'Hospital County_33', 'Hospital County_34', 'Hospital County_35', 'Hospital County_36', 'Hospital County_37', 'Hospital County_38', 'Hospital County_39', 'Hospital County_40', 'Hospital County_41', 'Hospital County_42', 'Hospital County_43', 'Hospital County_44', 'Hospital County_45', 'Hospital County_46', 'Hospital County_47', 'Hospital County_48', 'Hospital County_49', 'Hospital County_50', 'Hospital County_51', 'Hospital County_52', 'Hospital County_53', 'Hospital County_54', 'Operating Certificate Number_1', 'Operating Certificate Number_2', 'Operating Certificate Number_3', 'Operating Certificate Number_4', 'Operating Certificate Number_5', 'Operating Certificate Number_6', 'Operating Certificate Number_7', 'Operating Certificate Number_8', 'Operating Certificate Number_9', 'Operating Certificate Number_10', 'Operating Certificate Number_11', 'Operating Certificate Number_12', 'Operating Certificate Number_13', 'Operating Certificate Number_14', 'Operating Certificate Number_15', 'Operating Certificate Number_16', 'Operating Certificate Number_17', 'Operating Certificate Number_18', 'Operating Certificate Number_19', 'Operating Certificate Number_20', 'Operating Certificate Number_21', 'Operating Certificate Number_22', 'Operating Certificate Number_23', 'Operating Certificate Number_24', 'Operating Certificate Number_25', 'Operating Certificate Number_26', 'Operating Certificate Number_27', 'Operating Certificate Number_28', 'Operating Certificate Number_29', 'Operating Certificate Number_30', 'Operating Certificate Number_31', 'Operating Certificate Number_32', 'Operating Certificate Number_33', 'Operating Certificate Number_34', 'Operating Certificate Number_35', 'Operating Certificate Number_36', 'Operating Certificate Number_37', 'Operating Certificate Number_38', 'Operating Certificate Number_39', 'Operating Certificate Number_40', 'Operating Certificate Number_41', 'Operating Certificate Number_42', 'Operating Certificate Number_43', 'Operating Certificate Number_44', 'Operating Certificate Number_45', 'Operating Certificate Number_46', 'Operating Certificate Number_47', 'Operating Certificate Number_48', 'Operating Certificate Number_49', 'Operating Certificate Number_50', 'Operating Certificate Number_51', 'Operating Certificate Number_52', 'Operating Certificate Number_53', 'Operating Certificate Number_54', 'Operating Certificate Number_55', 'Operating Certificate Number_56', 'Operating Certificate Number_57', 'Operating Certificate Number_58', 'Operating Certificate Number_59', 'Operating Certificate Number_60', 'Operating Certificate Number_61', 'Operating Certificate Number_62', 'Operating Certificate Number_63', 'Operating Certificate Number_64', 'Operating Certificate Number_65', 'Operating Certificate Number_66', 'Operating Certificate Number_67', 'Operating Certificate Number_68', 'Operating Certificate Number_69', 'Operating Certificate Number_70', 'Operating Certificate Number_71', 'Operating Certificate Number_72', 'Operating Certificate Number_73', 'Operating Certificate Number_74', 'Operating Certificate Number_75', 'Operating Certificate Number_76', 'Operating Certificate Number_77', 'Operating Certificate Number_78', 'Operating Certificate Number_79', 'Operating Certificate Number_80', 'Operating Certificate Number_81', 'Operating Certificate Number_82', 'Operating Certificate Number_83', 'Operating Certificate Number_84', 'Operating Certificate Number_85', 'Operating Certificate Number_86', 'Operating Certificate Number_87', 'Operating Certificate Number_88', 'Operating Certificate Number_89', 'Operating Certificate Number_90', 'Operating Certificate Number_91', 'Operating Certificate Number_92', 'Operating Certificate Number_93', 'Operating Certificate Number_94', 'Operating Certificate Number_95', 'Operating Certificate Number_96', 'Operating Certificate Number_97', 'Operating Certificate Number_98', 'Operating Certificate Number_99', 'Operating Certificate Number_100', 'Operating Certificate Number_101', 'Operating Certificate Number_102', 'Operating Certificate Number_103', 'Operating Certificate Number_104', 'Operating Certificate Number_105', 'Operating Certificate Number_106', 'Operating Certificate Number_107', 'Operating Certificate Number_108', 'Operating Certificate Number_109', 'Operating Certificate Number_110', 'Operating Certificate Number_111', 'Operating Certificate Number_112', 'Operating Certificate Number_113', 'Operating Certificate Number_114', 'Operating Certificate Number_115', 'Operating Certificate Number_116', 'Operating Certificate Number_117', 'Operating Certificate Number_118', 'Operating Certificate Number_119', 'Operating Certificate Number_120', 'Operating Certificate Number_121', 'Operating Certificate Number_122', 'Operating Certificate Number_123', 'Operating Certificate Number_124', 'Operating Certificate Number_125', 'Operating Certificate Number_126', 'Operating Certificate Number_127', 'Operating Certificate Number_128', 'Operating Certificate Number_129', 'Operating Certificate Number_130', 'Operating Certificate Number_131', 'Operating Certificate Number_132', 'Operating Certificate Number_133', 'Operating Certificate Number_134', 'Operating Certificate Number_135', 'Operating Certificate Number_136', 'Operating Certificate Number_137', 'Operating Certificate Number_138', 'Operating Certificate Number_139', 'Operating Certificate Number_140', 'Operating Certificate Number_141', 'Operating Certificate Number_142', 'Operating Certificate Number_143', 'Operating Certificate Number_144', 'Operating Certificate Number_145', 'Operating Certificate Number_146', 'Operating Certificate Number_147', 'Operating Certificate Number_148', 'Operating Certificate Number_149', 'Operating Certificate Number_150', 'Operating Certificate Number_151', 'Operating Certificate Number_152', 'Permanent Facility Id_1', 'Permanent Facility Id_2', 'Permanent Facility Id_3', 'Permanent Facility Id_4', 'Permanent Facility Id_5', 'Permanent Facility Id_6', 'Permanent Facility Id_7', 'Permanent Facility Id_8', 'Permanent Facility Id_9', 'Permanent Facility Id_10', 'Permanent Facility Id_11', 'Permanent Facility Id_12', 'Permanent Facility Id_13', 'Permanent Facility Id_14', 'Permanent Facility Id_15', 'Permanent Facility Id_16', 'Permanent Facility Id_17', 'Permanent Facility Id_18', 'Permanent Facility Id_19', 'Permanent Facility Id_20', 'Permanent Facility Id_21', 'Permanent Facility Id_22', 'Permanent Facility Id_23', 'Permanent Facility Id_24', 'Permanent Facility Id_25', 'Permanent Facility Id_26', 'Permanent Facility Id_27', 'Permanent Facility Id_28', 'Permanent Facility Id_29', 'Permanent Facility Id_30', 'Permanent Facility Id_31', 'Permanent Facility Id_32', 'Permanent Facility Id_33', 'Permanent Facility Id_34', 'Permanent Facility Id_35', 'Permanent Facility Id_36', 'Permanent Facility Id_37', 'Permanent Facility Id_38', 'Permanent Facility Id_39', 'Permanent Facility Id_40', 'Permanent Facility Id_41', 'Permanent Facility Id_42', 'Permanent Facility Id_43', 'Permanent Facility Id_44', 'Permanent Facility Id_45', 'Permanent Facility Id_46', 'Permanent Facility Id_47', 'Permanent Facility Id_48', 'Permanent Facility Id_49', 'Permanent Facility Id_50', 'Permanent Facility Id_51', 'Permanent Facility Id_52', 'Permanent Facility Id_53', 'Permanent Facility Id_54', 'Permanent Facility Id_55', 'Permanent Facility Id_56', 'Permanent Facility Id_57', 'Permanent Facility Id_58', 'Permanent Facility Id_59', 'Permanent Facility Id_60', 'Permanent Facility Id_61', 'Permanent Facility Id_62', 'Permanent Facility Id_63', 'Permanent Facility Id_64', 'Permanent Facility Id_65', 'Permanent Facility Id_66', 'Permanent Facility Id_67', 'Permanent Facility Id_68', 'Permanent Facility Id_69', 'Permanent Facility Id_70', 'Permanent Facility Id_71', 'Permanent Facility Id_72', 'Permanent Facility Id_73', 'Permanent Facility Id_74', 'Permanent Facility Id_75', 'Permanent Facility Id_76', 'Permanent Facility Id_77', 'Permanent Facility Id_78', 'Permanent Facility Id_79', 'Permanent Facility Id_80', 'Permanent Facility Id_81', 'Permanent Facility Id_82', 'Permanent Facility Id_83', 'Permanent Facility Id_84', 'Permanent Facility Id_85', 'Permanent Facility Id_86', 'Permanent Facility Id_87', 'Permanent Facility Id_88', 'Permanent Facility Id_89', 'Permanent Facility Id_90', 'Permanent Facility Id_91', 'Permanent Facility Id_92', 'Permanent Facility Id_93', 'Permanent Facility Id_94', 'Permanent Facility Id_95', 'Permanent Facility Id_96', 'Permanent Facility Id_97', 'Permanent Facility Id_98', 'Permanent Facility Id_99', 'Permanent Facility Id_100', 'Permanent Facility Id_101', 'Permanent Facility Id_102', 'Permanent Facility Id_103', 'Permanent Facility Id_104', 'Permanent Facility Id_105', 'Permanent Facility Id_106', 'Permanent Facility Id_107', 'Permanent Facility Id_108', 'Permanent Facility Id_109', 'Permanent Facility Id_110', 'Permanent Facility Id_111', 'Permanent Facility Id_112', 'Permanent Facility Id_113', 'Permanent Facility Id_114', 'Permanent Facility Id_115', 'Permanent Facility Id_116', 'Permanent Facility Id_117', 'Permanent Facility Id_118', 'Permanent Facility Id_119', 'Permanent Facility Id_120', 'Permanent Facility Id_121', 'Permanent Facility Id_122', 'Permanent Facility Id_123', 'Permanent Facility Id_124', 'Permanent Facility Id_125', 'Permanent Facility Id_126', 'Permanent Facility Id_127', 'Permanent Facility Id_128', 'Permanent Facility Id_129', 'Permanent Facility Id_130', 'Permanent Facility Id_131', 'Permanent Facility Id_132', 'Permanent Facility Id_133', 'Permanent Facility Id_134', 'Permanent Facility Id_135', 'Permanent Facility Id_136', 'Permanent Facility Id_137', 'Permanent Facility Id_138', 'Permanent Facility Id_139', 'Permanent Facility Id_140', 'Permanent Facility Id_141', 'Permanent Facility Id_142', 'Permanent Facility Id_143', 'Permanent Facility Id_144', 'Permanent Facility Id_145', 'Permanent Facility Id_146', 'Permanent Facility Id_147', 'Permanent Facility Id_148', 'Permanent Facility Id_149', 'Permanent Facility Id_150', 'Permanent Facility Id_151', 'Permanent Facility Id_152', 'Permanent Facility Id_153', 'Permanent Facility Id_154', 'Permanent Facility Id_155', 'Permanent Facility Id_156', 'Permanent Facility Id_157', 'Permanent Facility Id_158', 'Permanent Facility Id_159', 'Permanent Facility Id_160', 'Permanent Facility Id_161', 'Permanent Facility Id_162', 'Permanent Facility Id_163', 'Permanent Facility Id_164', 'Permanent Facility Id_165', 'Permanent Facility Id_166', 'Permanent Facility Id_167', 'Permanent Facility Id_168', 'Permanent Facility Id_169', 'Permanent Facility Id_170', 'Permanent Facility Id_171', 'Permanent Facility Id_172', 'Permanent Facility Id_173', 'Permanent Facility Id_174', 'Permanent Facility Id_175', 'Permanent Facility Id_176', 'Permanent Facility Id_177', 'Permanent Facility Id_178', 'Permanent Facility Id_179', 'Permanent Facility Id_180', 'Permanent Facility Id_181', 'Permanent Facility Id_182', 'Permanent Facility Id_183', 'Permanent Facility Id_184', 'Permanent Facility Id_185', 'Permanent Facility Id_186', 'Facility Name_1', 'Facility Name_2', 'Facility Name_3', 'Facility Name_4', 'Facility Name_5', 'Facility Name_6', 'Facility Name_7', 'Facility Name_8', 'Facility Name_9', 'Facility Name_10', 'Facility Name_11', 'Facility Name_12', 'Facility Name_13', 'Facility Name_14', 'Facility Name_15', 'Facility Name_16', 'Facility Name_17', 'Facility Name_18', 'Facility Name_19', 'Facility Name_20', 'Facility Name_21', 'Facility Name_22', 'Facility Name_23', 'Facility Name_24', 'Facility Name_25', 'Facility Name_26', 'Facility Name_27', 'Facility Name_28', 'Facility Name_29', 'Facility Name_30', 'Facility Name_31', 'Facility Name_32', 'Facility Name_33', 'Facility Name_34', 'Facility Name_35', 'Facility Name_36', 'Facility Name_37', 'Facility Name_38', 'Facility Name_39', 'Facility Name_40', 'Facility Name_41', 'Facility Name_42', 'Facility Name_43', 'Facility Name_44', 'Facility Name_45', 'Facility Name_46', 'Facility Name_47', 'Facility Name_48', 'Facility Name_49', 'Facility Name_50', 'Facility Name_51', 'Facility Name_52', 'Facility Name_53', 'Facility Name_54', 'Facility Name_55', 'Facility Name_56', 'Facility Name_57', 'Facility Name_58', 'Facility Name_59', 'Facility Name_60', 'Facility Name_61', 'Facility Name_62', 'Facility Name_63', 'Facility Name_64', 'Facility Name_65', 'Facility Name_66', 'Facility Name_67', 'Facility Name_68', 'Facility Name_69', 'Facility Name_70', 'Facility Name_71', 'Facility Name_72', 'Facility Name_73', 'Facility Name_74', 'Facility Name_75', 'Facility Name_76', 'Facility Name_77', 'Facility Name_78', 'Facility Name_79', 'Facility Name_80', 'Facility Name_81', 'Facility Name_82', 'Facility Name_83', 'Facility Name_84', 'Facility Name_85', 'Facility Name_86', 'Facility Name_87', 'Facility Name_88', 'Facility Name_89', 'Facility Name_90', 'Facility Name_91', 'Facility Name_92', 'Facility Name_93', 'Facility Name_94', 'Facility Name_95', 'Facility Name_96', 'Facility Name_97', 'Facility Name_98', 'Facility Name_99', 'Facility Name_100', 'Facility Name_101', 'Facility Name_102', 'Facility Name_103', 'Facility Name_104', 'Facility Name_105', 'Facility Name_106', 'Facility Name_107', 'Facility Name_108', 'Facility Name_109', 'Facility Name_110', 'Facility Name_111', 'Facility Name_112', 'Facility Name_113', 'Facility Name_114', 'Facility Name_115', 'Facility Name_116', 'Facility Name_117', 'Facility Name_118', 'Facility Name_119', 'Facility Name_120', 'Facility Name_121', 'Facility Name_122', 'Facility Name_123', 'Facility Name_124', 'Facility Name_125', 'Facility Name_126', 'Facility Name_127', 'Facility Name_128', 'Facility Name_129', 'Facility Name_130', 'Facility Name_131', 'Facility Name_132', 'Facility Name_133', 'Facility Name_134', 'Facility Name_135', 'Facility Name_136', 'Facility Name_137', 'Facility Name_138', 'Facility Name_139', 'Facility Name_140', 'Facility Name_141', 'Facility Name_142', 'Facility Name_143', 'Facility Name_144', 'Facility Name_145', 'Facility Name_146', 'Facility Name_147', 'Facility Name_148', 'Facility Name_149', 'Facility Name_150', 'Facility Name_151', 'Facility Name_152', 'Facility Name_153', 'Facility Name_154', 'Facility Name_155', 'Facility Name_156', 'Facility Name_157', 'Facility Name_158', 'Facility Name_159', 'Facility Name_160', 'Facility Name_161', 'Facility Name_162', 'Facility Name_163', 'Facility Name_164', 'Facility Name_165', 'Facility Name_166', 'Facility Name_167', 'Facility Name_168', 'Facility Name_169', 'Facility Name_170', 'Facility Name_171', 'Facility Name_172', 'Facility Name_173', 'Facility Name_174', 'Facility Name_175', 'Facility Name_176', 'Facility Name_177', 'Facility Name_178', 'Facility Name_179', 'Facility Name_180', 'Facility Name_181', 'Facility Name_182', 'Facility Name_183', 'Facility Name_184', 'Facility Name_185', 'Age Group_1', 'Age Group_2', 'Age Group_3', 'Age Group_4', 'Age Group_5', 'Zip Code - 3 digits_1', 'Zip Code - 3 digits_2', 'Zip Code - 3 digits_3', 'Zip Code - 3 digits_4', 'Zip Code - 3 digits_5', 'Zip Code - 3 digits_6', 'Zip Code - 3 digits_7', 'Zip Code - 3 digits_8', 'Zip Code - 3 digits_9', 'Zip Code - 3 digits_10', 'Zip Code - 3 digits_11', 'Zip Code - 3 digits_12', 'Zip Code - 3 digits_13', 'Zip Code - 3 digits_14', 'Zip Code - 3 digits_15', 'Zip Code - 3 digits_16', 'Zip Code - 3 digits_17', 'Zip Code - 3 digits_18', 'Zip Code - 3 digits_19', 'Zip Code - 3 digits_20', 'Zip Code - 3 digits_21', 'Zip Code - 3 digits_22', 'Zip Code - 3 digits_23', 'Zip Code - 3 digits_24', 'Zip Code - 3 digits_25', 'Zip Code - 3 digits_26', 'Zip Code - 3 digits_27', 'Zip Code - 3 digits_28', 'Zip Code - 3 digits_29', 'Zip Code - 3 digits_30', 'Zip Code - 3 digits_31', 'Zip Code - 3 digits_32', 'Zip Code - 3 digits_33', 'Zip Code - 3 digits_34', 'Zip Code - 3 digits_35', 'Zip Code - 3 digits_36', 'Zip Code - 3 digits_37', 'Zip Code - 3 digits_38', 'Zip Code - 3 digits_39', 'Zip Code - 3 digits_40', 'Zip Code - 3 digits_41', 'Zip Code - 3 digits_42', 'Zip Code - 3 digits_43', 'Zip Code - 3 digits_44', 'Zip Code - 3 digits_45', 'Zip Code - 3 digits_46', 'Zip Code - 3 digits_47', 'Zip Code - 3 digits_48', 'Zip Code - 3 digits_49', 'Zip Code - 3 digits_50', 'Race_1', 'Race_2', 'Race_3', 'Race_4', 'Ethnicity_1', 'Ethnicity_2', 'Ethnicity_3', 'Ethnicity_4', 'Type of Admission_1', 'Type of Admission_2', 'Type of Admission_3', 'Type of Admission_4', 'Type of Admission_5', 'Type of Admission_6', 'Patient Disposition_1', 'Patient Disposition_2', 'Patient Disposition_3', 'Patient Disposition_4', 'Patient Disposition_5', 'Patient Disposition_6', 'Patient Disposition_7', 'Patient Disposition_8', 'Patient Disposition_9', 'Patient Disposition_10', 'Patient Disposition_11', 'Patient Disposition_12', 'Patient Disposition_13', 'Patient Disposition_14', 'Patient Disposition_15', 'Patient Disposition_16', 'Patient Disposition_17', 'Patient Disposition_18', 'Patient Disposition_19', 'CCSR Diagnosis Code_1', 'CCSR Diagnosis Code_2', 'CCSR Diagnosis Code_3', 'CCSR Diagnosis Code_4', 'CCSR Diagnosis Code_5', 'CCSR Diagnosis Code_6', 'CCSR Diagnosis Code_7', 'CCSR Diagnosis Code_8', 'CCSR Diagnosis Code_9', 'CCSR Diagnosis Code_10', 'CCSR Diagnosis Code_11', 'CCSR Diagnosis Code_12', 'CCSR Diagnosis Code_13', 'CCSR Diagnosis Code_14', 'CCSR Diagnosis Code_15', 'CCSR Diagnosis Code_16', 'CCSR Diagnosis Code_17', 'CCSR Diagnosis Code_18', 'CCSR Diagnosis Code_19', 'CCSR Diagnosis Code_20', 'CCSR Diagnosis Code_21', 'CCSR Diagnosis Code_22', 'CCSR Diagnosis Code_23', 'CCSR Diagnosis Code_24', 'CCSR Diagnosis Code_25', 'CCSR Diagnosis Code_26', 'CCSR Diagnosis Code_27', 'CCSR Diagnosis Code_28', 'CCSR Diagnosis Code_29', 'CCSR Diagnosis Code_30', 'CCSR Diagnosis Code_31', 'CCSR Diagnosis Code_32', 'CCSR Diagnosis Code_33', 'CCSR Diagnosis Code_34', 'CCSR Diagnosis Code_35', 'CCSR Diagnosis Code_36', 'CCSR Diagnosis Code_37', 'CCSR Diagnosis Code_38', 'CCSR Diagnosis Code_39', 'CCSR Diagnosis Code_40', 'CCSR Diagnosis Code_41', 'CCSR Diagnosis Code_42', 'CCSR Diagnosis Code_43', 'CCSR Diagnosis Code_44', 'CCSR Diagnosis Code_45', 'CCSR Diagnosis Code_46', 'CCSR Diagnosis Code_47', 'CCSR Diagnosis Code_48', 'CCSR Diagnosis Code_49', 'CCSR Diagnosis Code_50', 'CCSR Diagnosis Code_51', 'CCSR Diagnosis Code_52', 'CCSR Diagnosis Code_53', 'CCSR Diagnosis Code_54', 'CCSR Diagnosis Code_55', 'CCSR Diagnosis Code_56', 'CCSR Diagnosis Code_57', 'CCSR Diagnosis Code_58', 'CCSR Diagnosis Code_59', 'CCSR Diagnosis Code_60', 'CCSR Diagnosis Code_61', 'CCSR Diagnosis Code_62', 'CCSR Diagnosis Code_63', 'CCSR Diagnosis Code_64', 'CCSR Diagnosis Code_65', 'CCSR Diagnosis Code_66', 'CCSR Diagnosis Code_67', 'CCSR Diagnosis Code_68', 'CCSR Diagnosis Code_69', 'CCSR Diagnosis Code_70', 'CCSR Diagnosis Code_71', 'CCSR Diagnosis Code_72', 'CCSR Diagnosis Code_73', 'CCSR Diagnosis Code_74', 'CCSR Diagnosis Code_75', 'CCSR Diagnosis Code_76', 'CCSR Diagnosis Code_77', 'CCSR Diagnosis Code_78', 'CCSR Diagnosis Code_79', 'CCSR Diagnosis Code_80', 'CCSR Diagnosis Code_81', 'CCSR Diagnosis Code_82', 'CCSR Diagnosis Code_83', 'CCSR Diagnosis Code_84', 'CCSR Diagnosis Code_85', 'CCSR Diagnosis Code_86', 'CCSR Diagnosis Code_87', 'CCSR Diagnosis Code_88', 'CCSR Diagnosis Code_89', 'CCSR Diagnosis Code_90', 'CCSR Diagnosis Code_91', 'CCSR Diagnosis Code_92', 'CCSR Diagnosis Code_93', 'CCSR Diagnosis Code_94', 'CCSR Diagnosis Code_95', 'CCSR Diagnosis Code_96', 'CCSR Diagnosis Code_97', 'CCSR Diagnosis Code_98', 'CCSR Diagnosis Code_99', 'CCSR Diagnosis Code_100', 'CCSR Diagnosis Code_101', 'CCSR Diagnosis Code_102', 'CCSR Diagnosis Code_103', 'CCSR Diagnosis Code_104', 'CCSR Diagnosis Code_105', 'CCSR Diagnosis Code_106', 'CCSR Diagnosis Code_107', 'CCSR Diagnosis Code_108', 'CCSR Diagnosis Code_109', 'CCSR Diagnosis Code_110', 'CCSR Diagnosis Code_111', 'CCSR Diagnosis Code_112', 'CCSR Diagnosis Code_113', 'CCSR Diagnosis Code_114', 'CCSR Diagnosis Code_115', 'CCSR Diagnosis Code_116', 'CCSR Diagnosis Code_117', 'CCSR Diagnosis Code_118', 'CCSR Diagnosis Code_119', 'CCSR Diagnosis Code_120', 'CCSR Diagnosis Code_121', 'CCSR Diagnosis Code_122', 'CCSR Diagnosis Code_123', 'CCSR Diagnosis Code_124', 'CCSR Diagnosis Code_125', 'CCSR Diagnosis Code_126', 'CCSR Diagnosis Code_127', 'CCSR Diagnosis Code_128', 'CCSR Diagnosis Code_129', 'CCSR Diagnosis Code_130', 'CCSR Diagnosis Code_131', 'CCSR Diagnosis Code_132', 'CCSR Diagnosis Code_133', 'CCSR Diagnosis Code_134', 'CCSR Diagnosis Code_135', 'CCSR Diagnosis Code_136', 'CCSR Diagnosis Code_137', 'CCSR Diagnosis Code_138', 'CCSR Diagnosis Code_139', 'CCSR Diagnosis Code_140', 'CCSR Diagnosis Code_141', 'CCSR Diagnosis Code_142', 'CCSR Diagnosis Code_143', 'CCSR Diagnosis Code_144', 'CCSR Diagnosis Code_145', 'CCSR Diagnosis Code_146', 'CCSR Diagnosis Code_147', 'CCSR Diagnosis Code_148', 'CCSR Diagnosis Code_149', 'CCSR Diagnosis Code_150', 'CCSR Diagnosis Code_151', 'CCSR Diagnosis Code_152', 'CCSR Diagnosis Code_153', 'CCSR Diagnosis Code_154', 'CCSR Diagnosis Code_155', 'CCSR Diagnosis Code_156', 'CCSR Diagnosis Code_157', 'CCSR Diagnosis Code_158', 'CCSR Diagnosis Code_159', 'CCSR Diagnosis Code_160', 'CCSR Diagnosis Code_161', 'CCSR Diagnosis Code_162', 'CCSR Diagnosis Code_163', 'CCSR Diagnosis Code_164', 'CCSR Diagnosis Code_165', 'CCSR Diagnosis Code_166', 'CCSR Diagnosis Code_167', 'CCSR Diagnosis Code_168', 'CCSR Diagnosis Code_169', 'CCSR Diagnosis Code_170', 'CCSR Diagnosis Code_171', 'CCSR Diagnosis Code_172', 'CCSR Diagnosis Code_173', 'CCSR Diagnosis Code_174', 'CCSR Diagnosis Code_175', 'CCSR Diagnosis Code_176', 'CCSR Diagnosis Code_177', 'CCSR Diagnosis Code_178', 'CCSR Diagnosis Code_179', 'CCSR Diagnosis Code_180', 'CCSR Diagnosis Code_181', 'CCSR Diagnosis Code_182', 'CCSR Diagnosis Code_183', 'CCSR Diagnosis Code_184', 'CCSR Diagnosis Code_185', 'CCSR Diagnosis Code_186', 'CCSR Diagnosis Code_187', 'CCSR Diagnosis Code_188', 'CCSR Diagnosis Code_189', 'CCSR Diagnosis Code_190', 'CCSR Diagnosis Code_191', 'CCSR Diagnosis Code_192', 'CCSR Diagnosis Code_193', 'CCSR Diagnosis Code_194', 'CCSR Diagnosis Code_195', 'CCSR Diagnosis Code_196', 'CCSR Diagnosis Code_197', 'CCSR Diagnosis Code_198', 'CCSR Diagnosis Code_199', 'CCSR Diagnosis Code_200', 'CCSR Diagnosis Code_201', 'CCSR Diagnosis Code_202', 'CCSR Diagnosis Code_203', 'CCSR Diagnosis Code_204', 'CCSR Diagnosis Code_205', 'CCSR Diagnosis Code_206', 'CCSR Diagnosis Code_207', 'CCSR Diagnosis Code_208', 'CCSR Diagnosis Code_209', 'CCSR Diagnosis Code_210', 'CCSR Diagnosis Code_211', 'CCSR Diagnosis Code_212', 'CCSR Diagnosis Code_213', 'CCSR Diagnosis Code_214', 'CCSR Diagnosis Code_215', 'CCSR Diagnosis Code_216', 'CCSR Diagnosis Code_217', 'CCSR Diagnosis Code_218', 'CCSR Diagnosis Code_219', 'CCSR Diagnosis Code_220', 'CCSR Diagnosis Code_221', 'CCSR Diagnosis Code_222', 'CCSR Diagnosis Code_223', 'CCSR Diagnosis Code_224', 'CCSR Diagnosis Code_225', 'CCSR Diagnosis Code_226', 'CCSR Diagnosis Code_227', 'CCSR Diagnosis Code_228', 'CCSR Diagnosis Code_229', 'CCSR Diagnosis Code_230', 'CCSR Diagnosis Code_231', 'CCSR Diagnosis Code_232', 'CCSR Diagnosis Code_233', 'CCSR Diagnosis Code_234', 'CCSR Diagnosis Code_235', 'CCSR Diagnosis Code_236', 'CCSR Diagnosis Code_237', 'CCSR Diagnosis Code_238', 'CCSR Diagnosis Code_239', 'CCSR Diagnosis Code_240', 'CCSR Diagnosis Code_241', 'CCSR Diagnosis Code_242', 'CCSR Diagnosis Code_243', 'CCSR Diagnosis Code_244', 'CCSR Diagnosis Code_245', 'CCSR Diagnosis Code_246', 'CCSR Diagnosis Code_247', 'CCSR Diagnosis Code_248', 'CCSR Diagnosis Code_249', 'CCSR Diagnosis Code_250', 'CCSR Diagnosis Code_251', 'CCSR Diagnosis Code_252', 'CCSR Diagnosis Code_253', 'CCSR Diagnosis Code_254', 'CCSR Diagnosis Code_255', 'CCSR Diagnosis Code_256', 'CCSR Diagnosis Code_257', 'CCSR Diagnosis Code_258', 'CCSR Diagnosis Code_259', 'CCSR Diagnosis Code_260', 'CCSR Diagnosis Code_261', 'CCSR Diagnosis Code_262', 'CCSR Diagnosis Code_263', 'CCSR Diagnosis Code_264', 'CCSR Diagnosis Code_265', 'CCSR Diagnosis Code_266', 'CCSR Diagnosis Code_267', 'CCSR Diagnosis Code_268', 'CCSR Diagnosis Code_269', 'CCSR Diagnosis Code_270', 'CCSR Diagnosis Code_271', 'CCSR Diagnosis Code_272', 'CCSR Diagnosis Code_273', 'CCSR Diagnosis Code_274', 'CCSR Diagnosis Code_275', 'CCSR Diagnosis Code_276', 'CCSR Diagnosis Code_277', 'CCSR Diagnosis Code_278', 'CCSR Diagnosis Code_279', 'CCSR Diagnosis Code_280', 'CCSR Diagnosis Code_281', 'CCSR Diagnosis Code_282', 'CCSR Diagnosis Code_283', 'CCSR Diagnosis Code_284', 'CCSR Diagnosis Code_285', 'CCSR Diagnosis Code_286', 'CCSR Diagnosis Code_287', 'CCSR Diagnosis Code_288', 'CCSR Diagnosis Code_289', 'CCSR Diagnosis Code_290', 'CCSR Diagnosis Code_291', 'CCSR Diagnosis Code_292', 'CCSR Diagnosis Code_293', 'CCSR Diagnosis Code_294', 'CCSR Diagnosis Code_295', 'CCSR Diagnosis Code_296', 'CCSR Diagnosis Code_297', 'CCSR Diagnosis Code_298', 'CCSR Diagnosis Code_299', 'CCSR Diagnosis Code_300', 'CCSR Diagnosis Code_301', 'CCSR Diagnosis Code_302', 'CCSR Diagnosis Code_303', 'CCSR Diagnosis Code_304', 'CCSR Diagnosis Code_305', 'CCSR Diagnosis Code_306', 'CCSR Diagnosis Code_307', 'CCSR Diagnosis Code_308', 'CCSR Diagnosis Code_309', 'CCSR Diagnosis Code_310', 'CCSR Diagnosis Code_311', 'CCSR Diagnosis Code_312', 'CCSR Diagnosis Code_313', 'CCSR Diagnosis Code_314', 'CCSR Diagnosis Code_315', 'CCSR Diagnosis Code_316', 'CCSR Diagnosis Code_317', 'CCSR Diagnosis Code_318', 'CCSR Diagnosis Code_319', 'CCSR Diagnosis Code_320', 'CCSR Diagnosis Code_321', 'CCSR Diagnosis Code_322', 'CCSR Diagnosis Code_323', 'CCSR Diagnosis Code_324', 'CCSR Diagnosis Code_325', 'CCSR Diagnosis Code_326', 'CCSR Diagnosis Code_327', 'CCSR Diagnosis Code_328', 'CCSR Diagnosis Code_329', 'CCSR Diagnosis Code_330', 'CCSR Diagnosis Code_331', 'CCSR Diagnosis Code_332', 'CCSR Diagnosis Code_333', 'CCSR Diagnosis Code_334', 'CCSR Diagnosis Code_335', 'CCSR Diagnosis Code_336', 'CCSR Diagnosis Code_337', 'CCSR Diagnosis Code_338', 'CCSR Diagnosis Code_339', 'CCSR Diagnosis Code_340', 'CCSR Diagnosis Code_341', 'CCSR Diagnosis Code_342', 'CCSR Diagnosis Code_343', 'CCSR Diagnosis Code_344', 'CCSR Diagnosis Code_345', 'CCSR Diagnosis Code_346', 'CCSR Diagnosis Code_347', 'CCSR Diagnosis Code_348', 'CCSR Diagnosis Code_349', 'CCSR Diagnosis Code_350', 'CCSR Diagnosis Code_351', 'CCSR Diagnosis Code_352', 'CCSR Diagnosis Code_353', 'CCSR Diagnosis Code_354', 'CCSR Diagnosis Code_355', 'CCSR Diagnosis Code_356', 'CCSR Diagnosis Code_357', 'CCSR Diagnosis Code_358', 'CCSR Diagnosis Code_359', 'CCSR Diagnosis Code_360', 'CCSR Diagnosis Code_361', 'CCSR Diagnosis Code_362', 'CCSR Diagnosis Code_363', 'CCSR Diagnosis Code_364', 'CCSR Diagnosis Code_365', 'CCSR Diagnosis Code_366', 'CCSR Diagnosis Code_367', 'CCSR Diagnosis Code_368', 'CCSR Diagnosis Code_369', 'CCSR Diagnosis Code_370', 'CCSR Diagnosis Code_371', 'CCSR Diagnosis Code_372', 'CCSR Diagnosis Code_373', 'CCSR Diagnosis Code_374', 'CCSR Diagnosis Code_375', 'CCSR Diagnosis Code_376', 'CCSR Diagnosis Code_377', 'CCSR Diagnosis Code_378', 'CCSR Diagnosis Code_379', 'CCSR Diagnosis Code_380', 'CCSR Diagnosis Code_381', 'CCSR Diagnosis Code_382', 'CCSR Diagnosis Code_383', 'CCSR Diagnosis Code_384', 'CCSR Diagnosis Code_385', 'CCSR Diagnosis Code_386', 'CCSR Diagnosis Code_387', 'CCSR Diagnosis Code_388', 'CCSR Diagnosis Code_389', 'CCSR Diagnosis Code_390', 'CCSR Diagnosis Code_391', 'CCSR Diagnosis Code_392', 'CCSR Diagnosis Code_393', 'CCSR Diagnosis Code_394', 'CCSR Diagnosis Code_395', 'CCSR Diagnosis Code_396', 'CCSR Diagnosis Code_397', 'CCSR Diagnosis Code_398', 'CCSR Diagnosis Code_399', 'CCSR Diagnosis Code_400', 'CCSR Diagnosis Code_401', 'CCSR Diagnosis Code_402', 'CCSR Diagnosis Code_403', 'CCSR Diagnosis Code_404', 'CCSR Diagnosis Code_405', 'CCSR Diagnosis Code_406', 'CCSR Diagnosis Code_407', 'CCSR Diagnosis Code_408', 'CCSR Diagnosis Code_409', 'CCSR Diagnosis Code_410', 'CCSR Diagnosis Code_411', 'CCSR Diagnosis Code_412', 'CCSR Diagnosis Code_413', 'CCSR Diagnosis Code_414', 'CCSR Diagnosis Code_415', 'CCSR Diagnosis Code_416', 'CCSR Diagnosis Code_417', 'CCSR Diagnosis Code_418', 'CCSR Diagnosis Code_419', 'CCSR Diagnosis Code_420', 'CCSR Diagnosis Code_421', 'CCSR Diagnosis Code_422', 'CCSR Diagnosis Code_423', 'CCSR Procedure Code_1', 'CCSR Procedure Code_2', 'CCSR Procedure Code_3', 'CCSR Procedure Code_4', 'CCSR Procedure Code_5', 'CCSR Procedure Code_6', 'CCSR Procedure Code_7', 'CCSR Procedure Code_8', 'CCSR Procedure Code_9', 'CCSR Procedure Code_10', 'CCSR Procedure Code_11', 'CCSR Procedure Code_12', 'CCSR Procedure Code_13', 'CCSR Procedure Code_14', 'CCSR Procedure Code_15', 'CCSR Procedure Code_16', 'CCSR Procedure Code_17', 'CCSR Procedure Code_18', 'CCSR Procedure Code_19', 'CCSR Procedure Code_20', 'CCSR Procedure Code_21', 'CCSR Procedure Code_22', 'CCSR Procedure Code_23', 'CCSR Procedure Code_24', 'CCSR Procedure Code_25', 'CCSR Procedure Code_26', 'CCSR Procedure Code_27', 'CCSR Procedure Code_28', 'CCSR Procedure Code_29', 'CCSR Procedure Code_30', 'CCSR Procedure Code_31', 'CCSR Procedure Code_32', 'CCSR Procedure Code_33', 'CCSR Procedure Code_34', 'CCSR Procedure Code_35', 'CCSR Procedure Code_36', 'CCSR Procedure Code_37', 'CCSR Procedure Code_38', 'CCSR Procedure Code_39', 'CCSR Procedure Code_40', 'CCSR Procedure Code_41', 'CCSR Procedure Code_42', 'CCSR Procedure Code_43', 'CCSR Procedure Code_44', 'CCSR Procedure Code_45', 'CCSR Procedure Code_46', 'CCSR Procedure Code_47', 'CCSR Procedure Code_48', 'CCSR Procedure Code_49', 'CCSR Procedure Code_50', 'CCSR Procedure Code_51', 'CCSR Procedure Code_52', 'CCSR Procedure Code_53', 'CCSR Procedure Code_54', 'CCSR Procedure Code_55', 'CCSR Procedure Code_56', 'CCSR Procedure Code_57', 'CCSR Procedure Code_58', 'CCSR Procedure Code_59', 'CCSR Procedure Code_60', 'CCSR Procedure Code_61', 'CCSR Procedure Code_62', 'CCSR Procedure Code_63', 'CCSR Procedure Code_64', 'CCSR Procedure Code_65', 'CCSR Procedure Code_66', 'CCSR Procedure Code_67', 'CCSR Procedure Code_68', 'CCSR Procedure Code_69', 'CCSR Procedure Code_70', 'CCSR Procedure Code_71', 'CCSR Procedure Code_72', 'CCSR Procedure Code_73', 'CCSR Procedure Code_74', 'CCSR Procedure Code_75', 'CCSR Procedure Code_76', 'CCSR Procedure Code_77', 'CCSR Procedure Code_78', 'CCSR Procedure Code_79', 'CCSR Procedure Code_80', 'CCSR Procedure Code_81', 'CCSR Procedure Code_82', 'CCSR Procedure Code_83', 'CCSR Procedure Code_84', 'CCSR Procedure Code_85', 'CCSR Procedure Code_86', 'CCSR Procedure Code_87', 'CCSR Procedure Code_88', 'CCSR Procedure Code_89', 'CCSR Procedure Code_90', 'CCSR Procedure Code_91', 'CCSR Procedure Code_92', 'CCSR Procedure Code_93', 'CCSR Procedure Code_94', 'CCSR Procedure Code_95', 'CCSR Procedure Code_96', 'CCSR Procedure Code_97', 'CCSR Procedure Code_98', 'CCSR Procedure Code_99', 'CCSR Procedure Code_100', 'CCSR Procedure Code_101', 'CCSR Procedure Code_102', 'CCSR Procedure Code_103', 'CCSR Procedure Code_104', 'CCSR Procedure Code_105', 'CCSR Procedure Code_106', 'CCSR Procedure Code_107', 'CCSR Procedure Code_108', 'CCSR Procedure Code_109', 'CCSR Procedure Code_110', 'CCSR Procedure Code_111', 'CCSR Procedure Code_112', 'CCSR Procedure Code_113', 'CCSR Procedure Code_114', 'CCSR Procedure Code_115', 'CCSR Procedure Code_116', 'CCSR Procedure Code_117', 'CCSR Procedure Code_118', 'CCSR Procedure Code_119', 'CCSR Procedure Code_120', 'CCSR Procedure Code_121', 'CCSR Procedure Code_122', 'CCSR Procedure Code_123', 'CCSR Procedure Code_124', 'CCSR Procedure Code_125', 'CCSR Procedure Code_126', 'CCSR Procedure Code_127', 'CCSR Procedure Code_128', 'CCSR Procedure Code_129', 'CCSR Procedure Code_130', 'CCSR Procedure Code_131', 'CCSR Procedure Code_132', 'CCSR Procedure Code_133', 'CCSR Procedure Code_134', 'CCSR Procedure Code_135', 'CCSR Procedure Code_136', 'CCSR Procedure Code_137', 'CCSR Procedure Code_138', 'CCSR Procedure Code_139', 'CCSR Procedure Code_140', 'CCSR Procedure Code_141', 'CCSR Procedure Code_142', 'CCSR Procedure Code_143', 'CCSR Procedure Code_144', 'CCSR Procedure Code_145', 'CCSR Procedure Code_146', 'CCSR Procedure Code_147', 'CCSR Procedure Code_148', 'CCSR Procedure Code_149', 'CCSR Procedure Code_150', 'CCSR Procedure Code_151', 'CCSR Procedure Code_152', 'CCSR Procedure Code_153', 'CCSR Procedure Code_154', 'CCSR Procedure Code_155', 'CCSR Procedure Code_156', 'CCSR Procedure Code_157', 'CCSR Procedure Code_158', 'CCSR Procedure Code_159', 'CCSR Procedure Code_160', 'CCSR Procedure Code_161', 'CCSR Procedure Code_162', 'CCSR Procedure Code_163', 'CCSR Procedure Code_164', 'CCSR Procedure Code_165', 'CCSR Procedure Code_166', 'CCSR Procedure Code_167', 'CCSR Procedure Code_168', 'CCSR Procedure Code_169', 'CCSR Procedure Code_170', 'CCSR Procedure Code_171', 'CCSR Procedure Code_172', 'CCSR Procedure Code_173', 'CCSR Procedure Code_174', 'CCSR Procedure Code_175', 'CCSR Procedure Code_176', 'CCSR Procedure Code_177', 'CCSR Procedure Code_178', 'CCSR Procedure Code_179', 'CCSR Procedure Code_180', 'CCSR Procedure Code_181', 'CCSR Procedure Code_182', 'CCSR Procedure Code_183', 'CCSR Procedure Code_184', 'CCSR Procedure Code_185', 'CCSR Procedure Code_186', 'CCSR Procedure Code_187', 'CCSR Procedure Code_188', 'CCSR Procedure Code_189', 'CCSR Procedure Code_190', 'CCSR Procedure Code_191', 'CCSR Procedure Code_192', 'CCSR Procedure Code_193', 'CCSR Procedure Code_194', 'CCSR Procedure Code_195', 'CCSR Procedure Code_196', 'CCSR Procedure Code_197', 'CCSR Procedure Code_198', 'CCSR Procedure Code_199', 'CCSR Procedure Code_200', 'CCSR Procedure Code_201', 'CCSR Procedure Code_202', 'CCSR Procedure Code_203', 'CCSR Procedure Code_204', 'CCSR Procedure Code_205', 'CCSR Procedure Code_206', 'CCSR Procedure Code_207', 'CCSR Procedure Code_208', 'CCSR Procedure Code_209', 'CCSR Procedure Code_210', 'CCSR Procedure Code_211', 'CCSR Procedure Code_212', 'CCSR Procedure Code_213', 'CCSR Procedure Code_214', 'CCSR Procedure Code_215', 'CCSR Procedure Code_216', 'CCSR Procedure Code_217', 'CCSR Procedure Code_218', 'CCSR Procedure Code_219', 'CCSR Procedure Code_220', 'CCSR Procedure Code_221', 'CCSR Procedure Code_222', 'CCSR Procedure Code_223', 'CCSR Procedure Code_224', 'CCSR Procedure Code_225', 'CCSR Procedure Code_226', 'CCSR Procedure Code_227', 'CCSR Procedure Code_228', 'CCSR Procedure Code_229', 'CCSR Procedure Code_230', 'CCSR Procedure Code_231', 'CCSR Procedure Code_232', 'CCSR Procedure Code_233', 'CCSR Procedure Code_234', 'CCSR Procedure Code_235', 'CCSR Procedure Code_236', 'CCSR Procedure Code_237', 'CCSR Procedure Code_238', 'CCSR Procedure Code_239', 'CCSR Procedure Code_240', 'CCSR Procedure Code_241', 'CCSR Procedure Code_242', 'CCSR Procedure Code_243', 'CCSR Procedure Code_244', 'CCSR Procedure Code_245', 'CCSR Procedure Code_246', 'CCSR Procedure Code_247', 'CCSR Procedure Code_248', 'CCSR Procedure Code_249', 'CCSR Procedure Code_250', 'CCSR Procedure Code_251', 'CCSR Procedure Code_252', 'CCSR Procedure Code_253', 'CCSR Procedure Code_254', 'CCSR Procedure Code_255', 'CCSR Procedure Code_256', 'CCSR Procedure Code_257', 'CCSR Procedure Code_258', 'CCSR Procedure Code_259', 'CCSR Procedure Code_260', 'CCSR Procedure Code_261', 'CCSR Procedure Code_262', 'CCSR Procedure Code_263', 'CCSR Procedure Code_264', 'CCSR Procedure Code_265', 'CCSR Procedure Code_266', 'CCSR Procedure Code_267', 'CCSR Procedure Code_268', 'CCSR Procedure Code_269', 'CCSR Procedure Code_270', 'CCSR Procedure Code_271', 'CCSR Procedure Code_272', 'CCSR Procedure Code_273', 'CCSR Procedure Code_274', 'CCSR Procedure Code_275', 'CCSR Procedure Code_276', 'CCSR Procedure Code_277', 'CCSR Procedure Code_278', 'CCSR Procedure Code_279', 'CCSR Procedure Code_280', 'CCSR Procedure Code_281', 'CCSR Procedure Code_282', 'CCSR Procedure Code_283', 'CCSR Procedure Code_284', 'CCSR Procedure Code_285', 'CCSR Procedure Code_286', 'CCSR Procedure Code_287', 'CCSR Procedure Code_288', 'CCSR Procedure Code_289', 'CCSR Procedure Code_290', 'CCSR Procedure Code_291', 'CCSR Procedure Code_292', 'CCSR Procedure Code_293', 'CCSR Procedure Code_294', 'CCSR Procedure Code_295', 'CCSR Procedure Code_296', 'CCSR Procedure Code_297', 'CCSR Procedure Code_298', 'CCSR Procedure Code_299', 'CCSR Procedure Code_300', 'CCSR Procedure Code_301', 'CCSR Procedure Code_302', 'CCSR Procedure Code_303', 'CCSR Procedure Code_304', 'CCSR Procedure Code_305', 'CCSR Procedure Code_306', 'CCSR Procedure Code_307', 'CCSR Procedure Code_308', 'CCSR Procedure Code_309', 'CCSR Procedure Code_310', 'CCSR Procedure Code_311', 'CCSR Procedure Code_312', 'APR DRG Code_1', 'APR DRG Code_2', 'APR DRG Code_3', 'APR DRG Code_4', 'APR DRG Code_5', 'APR DRG Code_6', 'APR DRG Code_7', 'APR DRG Code_8', 'APR DRG Code_9', 'APR DRG Code_10', 'APR DRG Code_11', 'APR DRG Code_12', 'APR DRG Code_13', 'APR DRG Code_14', 'APR DRG Code_15', 'APR DRG Code_16', 'APR DRG Code_17', 'APR DRG Code_18', 'APR DRG Code_19', 'APR DRG Code_20', 'APR DRG Code_21', 'APR DRG Code_22', 'APR DRG Code_23', 'APR DRG Code_24', 'APR DRG Code_25', 'APR DRG Code_26', 'APR DRG Code_27', 'APR DRG Code_28', 'APR DRG Code_29', 'APR DRG Code_30', 'APR DRG Code_31', 'APR DRG Code_32', 'APR DRG Code_33', 'APR DRG Code_34', 'APR DRG Code_35', 'APR DRG Code_36', 'APR DRG Code_37', 'APR DRG Code_38', 'APR DRG Code_39', 'APR DRG Code_40', 'APR DRG Code_41', 'APR DRG Code_42', 'APR DRG Code_43', 'APR DRG Code_44', 'APR DRG Code_45', 'APR DRG Code_46', 'APR DRG Code_47', 'APR DRG Code_48', 'APR DRG Code_49', 'APR DRG Code_50', 'APR DRG Code_51', 'APR DRG Code_52', 'APR DRG Code_53', 'APR DRG Code_54', 'APR DRG Code_55', 'APR DRG Code_56', 'APR DRG Code_57', 'APR DRG Code_58', 'APR DRG Code_59', 'APR DRG Code_60', 'APR DRG Code_61', 'APR DRG Code_62', 'APR DRG Code_63', 'APR DRG Code_64', 'APR DRG Code_65', 'APR DRG Code_66', 'APR DRG Code_67', 'APR DRG Code_68', 'APR DRG Code_69', 'APR DRG Code_70', 'APR DRG Code_71', 'APR DRG Code_72', 'APR DRG Code_73', 'APR DRG Code_74', 'APR DRG Code_75', 'APR DRG Code_76', 'APR DRG Code_77', 'APR DRG Code_78', 'APR DRG Code_79', 'APR DRG Code_80', 'APR DRG Code_81', 'APR DRG Code_82', 'APR DRG Code_83', 'APR DRG Code_84', 'APR DRG Code_85', 'APR DRG Code_86', 'APR DRG Code_87', 'APR DRG Code_88', 'APR DRG Code_89', 'APR DRG Code_90', 'APR DRG Code_91', 'APR DRG Code_92', 'APR DRG Code_93', 'APR DRG Code_94', 'APR DRG Code_95', 'APR DRG Code_96', 'APR DRG Code_97', 'APR DRG Code_98', 'APR DRG Code_99', 'APR DRG Code_100', 'APR DRG Code_101', 'APR DRG Code_102', 'APR DRG Code_103', 'APR DRG Code_104', 'APR DRG Code_105', 'APR DRG Code_106', 'APR DRG Code_107', 'APR DRG Code_108', 'APR DRG Code_109', 'APR DRG Code_110', 'APR DRG Code_111', 'APR DRG Code_112', 'APR DRG Code_113', 'APR DRG Code_114', 'APR DRG Code_115', 'APR DRG Code_116', 'APR DRG Code_117', 'APR DRG Code_118', 'APR DRG Code_119', 'APR DRG Code_120', 'APR DRG Code_121', 'APR DRG Code_122', 'APR DRG Code_123', 'APR DRG Code_124', 'APR DRG Code_125', 'APR DRG Code_126', 'APR DRG Code_127', 'APR DRG Code_128', 'APR DRG Code_129', 'APR DRG Code_130', 'APR DRG Code_131', 'APR DRG Code_132', 'APR DRG Code_133', 'APR DRG Code_134', 'APR DRG Code_135', 'APR DRG Code_136', 'APR DRG Code_137', 'APR DRG Code_138', 'APR DRG Code_139', 'APR DRG Code_140', 'APR DRG Code_141', 'APR DRG Code_142', 'APR DRG Code_143', 'APR DRG Code_144', 'APR DRG Code_145', 'APR DRG Code_146', 'APR DRG Code_147', 'APR DRG Code_148', 'APR DRG Code_149', 'APR DRG Code_150', 'APR DRG Code_151', 'APR DRG Code_152', 'APR DRG Code_153', 'APR DRG Code_154', 'APR DRG Code_155', 'APR DRG Code_156', 'APR DRG Code_157', 'APR DRG Code_158', 'APR DRG Code_159', 'APR DRG Code_160', 'APR DRG Code_161', 'APR DRG Code_162', 'APR DRG Code_163', 'APR DRG Code_164', 'APR DRG Code_165', 'APR DRG Code_166', 'APR DRG Code_167', 'APR DRG Code_168', 'APR DRG Code_169', 'APR DRG Code_170', 'APR DRG Code_171', 'APR DRG Code_172', 'APR DRG Code_173', 'APR DRG Code_174', 'APR DRG Code_175', 'APR DRG Code_176', 'APR DRG Code_177', 'APR DRG Code_178', 'APR DRG Code_179', 'APR DRG Code_180', 'APR DRG Code_181', 'APR DRG Code_182', 'APR DRG Code_183', 'APR DRG Code_184', 'APR DRG Code_185', 'APR DRG Code_186', 'APR DRG Code_187', 'APR DRG Code_188', 'APR DRG Code_189', 'APR DRG Code_190', 'APR DRG Code_191', 'APR DRG Code_192', 'APR DRG Code_193', 'APR DRG Code_194', 'APR DRG Code_195', 'APR DRG Code_196', 'APR DRG Code_197', 'APR DRG Code_198', 'APR DRG Code_199', 'APR DRG Code_200', 'APR DRG Code_201', 'APR DRG Code_202', 'APR DRG Code_203', 'APR DRG Code_204', 'APR DRG Code_205', 'APR DRG Code_206', 'APR DRG Code_207', 'APR DRG Code_208', 'APR DRG Code_209', 'APR DRG Code_210', 'APR DRG Code_211', 'APR DRG Code_212', 'APR DRG Code_213', 'APR DRG Code_214', 'APR DRG Code_215', 'APR DRG Code_216', 'APR DRG Code_217', 'APR DRG Code_218', 'APR DRG Code_219', 'APR DRG Code_220', 'APR DRG Code_221', 'APR DRG Code_222', 'APR DRG Code_223', 'APR DRG Code_224', 'APR DRG Code_225', 'APR DRG Code_226', 'APR DRG Code_227', 'APR DRG Code_228', 'APR DRG Code_229', 'APR DRG Code_230', 'APR DRG Code_231', 'APR DRG Code_232', 'APR DRG Code_233', 'APR DRG Code_234', 'APR DRG Code_235', 'APR DRG Code_236', 'APR DRG Code_237', 'APR DRG Code_238', 'APR DRG Code_239', 'APR DRG Code_240', 'APR DRG Code_241', 'APR DRG Code_242', 'APR DRG Code_243', 'APR DRG Code_244', 'APR DRG Code_245', 'APR DRG Code_246', 'APR DRG Code_247', 'APR DRG Code_248', 'APR DRG Code_249', 'APR DRG Code_250', 'APR DRG Code_251', 'APR DRG Code_252', 'APR DRG Code_253', 'APR DRG Code_254', 'APR DRG Code_255', 'APR DRG Code_256', 'APR DRG Code_257', 'APR DRG Code_258', 'APR DRG Code_259', 'APR DRG Code_260', 'APR DRG Code_261', 'APR DRG Code_262', 'APR DRG Code_263', 'APR DRG Code_264', 'APR DRG Code_265', 'APR DRG Code_266', 'APR DRG Code_267', 'APR DRG Code_268', 'APR DRG Code_269', 'APR DRG Code_270', 'APR DRG Code_271', 'APR DRG Code_272', 'APR DRG Code_273', 'APR DRG Code_274', 'APR DRG Code_275', 'APR DRG Code_276', 'APR DRG Code_277', 'APR DRG Code_278', 'APR DRG Code_279', 'APR DRG Code_280', 'APR DRG Code_281', 'APR DRG Code_282', 'APR DRG Code_283', 'APR DRG Code_284', 'APR DRG Code_285', 'APR DRG Code_286', 'APR DRG Code_287', 'APR DRG Code_288', 'APR DRG Code_289', 'APR DRG Code_290', 'APR DRG Code_291', 'APR DRG Code_292', 'APR DRG Code_293', 'APR DRG Code_294', 'APR DRG Code_295', 'APR DRG Code_296', 'APR DRG Code_297', 'APR DRG Code_298', 'APR DRG Code_299', 'APR DRG Code_300', 'APR DRG Code_301', 'APR DRG Code_302', 'APR DRG Code_303', 'APR DRG Code_304', 'APR DRG Code_305', 'APR DRG Code_306', 'APR DRG Code_307', 'APR DRG Code_308', 'APR DRG Code_309', 'APR DRG Code_310', 'APR DRG Code_311', 'APR DRG Code_312', 'APR DRG Code_313', 'APR DRG Code_314', 'APR DRG Code_315', 'APR DRG Code_316', 'APR DRG Code_317', 'APR DRG Code_318', 'APR DRG Code_319', 'APR DRG Code_320', 'APR DRG Code_321', 'APR DRG Code_322', 'APR DRG Code_323', 'APR DRG Code_324', 'APR MDC Code_1', 'APR MDC Code_2', 'APR MDC Code_3', 'APR MDC Code_4', 'APR MDC Code_5', 'APR MDC Code_6', 'APR MDC Code_7', 'APR MDC Code_8', 'APR MDC Code_9', 'APR MDC Code_10', 'APR MDC Code_11', 'APR MDC Code_12', 'APR MDC Code_13', 'APR MDC Code_14', 'APR MDC Code_15', 'APR MDC Code_16', 'APR MDC Code_17', 'APR MDC Code_18', 'APR MDC Code_19', 'APR MDC Code_20', 'APR MDC Code_21', 'APR MDC Code_22', 'APR MDC Code_23', 'APR MDC Code_24', 'APR Severity of Illness Description_1', 'APR Severity of Illness Description_2', 'APR Severity of Illness Description_3', 'APR Severity of Illness Description_4', 'APR Risk of Mortality_1', 'APR Risk of Mortality_2', 'APR Risk of Mortality_3', 'APR Risk of Mortality_4', 'APR Medical Surgical Description_1', 'APR Medical Surgical Description_2', 'Payment Typology 1_1', 'Payment Typology 1_2', 'Payment Typology 1_3', 'Payment Typology 1_4', 'Payment Typology 1_5', 'Payment Typology 1_6', 'Payment Typology 1_7', 'Payment Typology 1_8', 'Payment Typology 1_9', 'Payment Typology 2_1', 'Payment Typology 2_2', 'Payment Typology 2_3', 'Payment Typology 2_4', 'Payment Typology 2_5', 'Payment Typology 2_6', 'Payment Typology 2_7', 'Payment Typology 2_8', 'Payment Typology 2_9', 'Payment Typology 2_10', 'Payment Typology 3_1', 'Payment Typology 3_2', 'Payment Typology 3_3', 'Payment Typology 3_4', 'Payment Typology 3_5', 'Payment Typology 3_6', 'Payment Typology 3_7', 'Payment Typology 3_8', 'Payment Typology 3_9', 'Emergency Department Indicator_1', 'Emergency Department Indicator_2', 'Total Costs', 'Length of Stay', 'Birth Weight']\n"
     ]
    }
   ],
   "source": [
    "import category_encoders as ce\n",
    "\n",
    "categorical= [0,1,2,3,4,5,6,8,9,11,12,13,14,15,16,17,18,19,20,21,22,24]\n",
    "numerical= [7,10,23]\n",
    "numerical_columns = X[:, numerical]\n",
    "\n",
    "new_feature_name=[]\n",
    "\n",
    "one_hot_encoded = []\n",
    "for i in categorical:\n",
    "    feature= X[:,i]\n",
    "    one_hot_encoder = OneHotEncoder(sparse_output=False, drop=None)\n",
    "    one_hot = one_hot_encoder.fit_transform(feature.reshape(-1,1))\n",
    "    one_hot_encoded.append(one_hot)\n",
    "    for j in range(one_hot.shape[1]):\n",
    "        new_feature_name.append(f\"{feature_name[i]}_{j+1}\")\n",
    "\n",
    "one_hot_encoded= np.hstack(one_hot_encoded)\n",
    "\n",
    "scaler = StandardScaler()\n",
    "normalized_data = scaler.fit_transform(numerical_columns)\n",
    "X = np.hstack([one_hot_encoded, normalized_data])\n",
    "\n",
    "for j in numerical:\n",
    "    new_feature_name.append(f\"{feature_name[j]}\")\n",
    "\n",
    "print(X.shape)\n",
    "print(new_feature_name)\n"
   ]
  },
  {
   "cell_type": "code",
   "execution_count": 18,
   "metadata": {},
   "outputs": [
    {
     "name": "stdout",
     "output_type": "stream",
     "text": [
      "Epoch 1, change: 1.00000000\n",
      "Epoch 2, change: 0.19576855\n",
      "Epoch 3, change: 0.12142409\n",
      "Epoch 4, change: 0.08840970\n",
      "Epoch 5, change: 0.07060572\n",
      "Epoch 6, change: 0.05916881\n",
      "Epoch 7, change: 0.05143344\n",
      "Epoch 8, change: 0.04492545\n",
      "Epoch 9, change: 0.03994037\n",
      "Epoch 10, change: 0.03572819\n",
      "Epoch 11, change: 0.03240751\n",
      "Epoch 12, change: 0.02941752\n",
      "Epoch 13, change: 0.02701867\n",
      "Epoch 14, change: 0.02498448\n",
      "Epoch 15, change: 0.02314374\n",
      "Epoch 16, change: 0.02157688\n",
      "Epoch 17, change: 0.02016923\n",
      "Epoch 18, change: 0.01890172\n",
      "Epoch 19, change: 0.01775864\n",
      "Epoch 20, change: 0.01680652\n",
      "Epoch 21, change: 0.01589936\n",
      "Epoch 22, change: 0.01506838\n",
      "Epoch 23, change: 0.01435817\n",
      "Epoch 24, change: 0.01367052\n",
      "Epoch 25, change: 0.01305175\n",
      "Epoch 26, change: 0.01249148\n",
      "Epoch 27, change: 0.01195071\n",
      "Epoch 28, change: 0.01147958\n",
      "Epoch 29, change: 0.01102472\n",
      "Epoch 30, change: 0.01062210\n",
      "Epoch 31, change: 0.01018423\n",
      "Epoch 32, change: 0.00977530\n",
      "Epoch 33, change: 0.00940236\n",
      "Epoch 34, change: 0.00905792\n",
      "Epoch 35, change: 0.00875419\n",
      "Epoch 36, change: 0.00845282\n",
      "Epoch 37, change: 0.00817462\n",
      "Epoch 38, change: 0.00789371\n",
      "Epoch 39, change: 0.00764484\n",
      "Epoch 40, change: 0.00739824\n",
      "Epoch 41, change: 0.00719108\n",
      "Epoch 42, change: 0.00697563\n",
      "Epoch 43, change: 0.00676975\n",
      "Epoch 44, change: 0.00657270\n",
      "Epoch 45, change: 0.00640321\n",
      "Epoch 46, change: 0.00623294\n",
      "Epoch 47, change: 0.00607220\n",
      "Epoch 48, change: 0.00591419\n",
      "Epoch 49, change: 0.00576863\n",
      "Epoch 50, change: 0.00562812\n",
      "Epoch 51, change: 0.00548418\n",
      "Epoch 52, change: 0.00535815\n",
      "Epoch 53, change: 0.00523508\n",
      "Epoch 54, change: 0.00512193\n",
      "Epoch 55, change: 0.00499917\n",
      "Epoch 56, change: 0.00489174\n",
      "Epoch 57, change: 0.00478247\n",
      "Epoch 58, change: 0.00468746\n",
      "Epoch 59, change: 0.00458718\n",
      "Epoch 60, change: 0.00449724\n",
      "Epoch 61, change: 0.00440721\n",
      "Epoch 62, change: 0.00432022\n",
      "Epoch 63, change: 0.00423684\n",
      "Epoch 64, change: 0.00415542\n",
      "Epoch 65, change: 0.00407726\n",
      "Epoch 66, change: 0.00400197\n",
      "Epoch 67, change: 0.00393081\n",
      "Epoch 68, change: 0.00385983\n",
      "Epoch 69, change: 0.00378763\n",
      "Epoch 70, change: 0.00372299\n",
      "Epoch 71, change: 0.00366063\n",
      "Epoch 72, change: 0.00359808\n",
      "Epoch 73, change: 0.00353670\n",
      "Epoch 74, change: 0.00348010\n",
      "Epoch 75, change: 0.00342134\n",
      "Epoch 76, change: 0.00337221\n",
      "Epoch 77, change: 0.00331373\n",
      "Epoch 78, change: 0.00326615\n",
      "Epoch 79, change: 0.00321276\n",
      "Epoch 80, change: 0.00316438\n",
      "Epoch 81, change: 0.00311706\n",
      "Epoch 82, change: 0.00307011\n",
      "Epoch 83, change: 0.00302423\n",
      "Epoch 84, change: 0.00298032\n",
      "Epoch 85, change: 0.00293581\n",
      "Epoch 86, change: 0.00289754\n",
      "Epoch 87, change: 0.00285679\n",
      "Epoch 88, change: 0.00281749\n",
      "Epoch 89, change: 0.00277918\n",
      "Epoch 90, change: 0.00274015\n",
      "Epoch 91, change: 0.00270406\n",
      "Epoch 92, change: 0.00266870\n",
      "Epoch 93, change: 0.00263204\n",
      "Epoch 94, change: 0.00259809\n",
      "Epoch 95, change: 0.00256411\n",
      "Epoch 96, change: 0.00253296\n",
      "Epoch 97, change: 0.00250093\n",
      "Epoch 98, change: 0.00246916\n",
      "Epoch 99, change: 0.00243861\n",
      "max_iter reached after 257 secondsEpoch 100, change: 0.00240884\n",
      "\n",
      "Model coefficients: [[ 0.0337315  -0.02145273 -0.0450533  ...  0.0069387  -0.0042703\n",
      "   0.20634654]]\n"
     ]
    },
    {
     "name": "stderr",
     "output_type": "stream",
     "text": [
      "/opt/homebrew/lib/python3.12/site-packages/sklearn/linear_model/_sag.py:349: ConvergenceWarning: The max_iter was reached which means the coef_ did not converge\n",
      "  warnings.warn(\n"
     ]
    }
   ],
   "source": [
    "from sklearn.linear_model import LogisticRegression\n",
    "from scipy.sparse import csr_matrix\n",
    "\n",
    "X= csr_matrix(X)\n",
    "model = LogisticRegression(penalty='l1', solver='saga', verbose=1, max_iter=100)\n",
    "model.fit(X, Y)\n",
    "print(\"Model coefficients:\", model.coef_)"
   ]
  },
  {
   "cell_type": "code",
   "execution_count": 19,
   "metadata": {},
   "outputs": [
    {
     "name": "stdout",
     "output_type": "stream",
     "text": [
      "307\n"
     ]
    }
   ],
   "source": [
    "num_zero_coefficients = np.sum(model.coef_ == 0)\n",
    "print(num_zero_coefficients)\n"
   ]
  },
  {
   "cell_type": "code",
   "execution_count": null,
   "metadata": {},
   "outputs": [],
   "source": []
  }
 ],
 "metadata": {
  "kernelspec": {
   "display_name": "Python 3",
   "language": "python",
   "name": "python3"
  },
  "language_info": {
   "codemirror_mode": {
    "name": "ipython",
    "version": 3
   },
   "file_extension": ".py",
   "mimetype": "text/x-python",
   "name": "python",
   "nbconvert_exporter": "python",
   "pygments_lexer": "ipython3",
   "version": "3.12.3"
  }
 },
 "nbformat": 4,
 "nbformat_minor": 2
}
